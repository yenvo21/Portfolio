{
 "cells": [
  {
   "attachments": {},
   "cell_type": "markdown",
   "id": "ffce4aad",
   "metadata": {},
   "source": [
    "# World Countries Data Modeling- Midwestern United States Income Comparision in 2018"
   ]
  },
  {
   "attachments": {},
   "cell_type": "markdown",
   "id": "cc7de400",
   "metadata": {},
   "source": [
    "# 1st Step: Extracting  Data"
   ]
  },
  {
   "cell_type": "code",
   "execution_count": 3,
   "id": "21247e07",
   "metadata": {},
   "outputs": [
    {
     "name": "stdout",
     "output_type": "stream",
     "text": [
      "    alpha2                 titlename             shortname    region  \\\n",
      "0       AD                   Andorra               Andorra    Europe   \n",
      "1       AE  the United Arab Emirates  United Arab Emirates      Asia   \n",
      "2       AF               Afghanistan           Afghanistan      Asia   \n",
      "3       AG       Antigua and Barbuda   Antigua and Barbuda  Americas   \n",
      "4       AI                  Anguilla              Anguilla  Americas   \n",
      "..     ...                       ...                   ...       ...   \n",
      "384     YU                Yugoslavia            Yugoslavia    Europe   \n",
      "385     ZA              South Africa          South Africa    Africa   \n",
      "386     ZM                    Zambia                Zambia    Africa   \n",
      "387     ZW                  Zimbabwe              Zimbabwe    Africa   \n",
      "388     ZZ                  Zanzibar              Zanzibar    Africa   \n",
      "\n",
      "            region2  \n",
      "0    Western Europe  \n",
      "1         West Asia  \n",
      "2        South Asia  \n",
      "3         Caribbean  \n",
      "4         Caribbean  \n",
      "..              ...  \n",
      "384  Eastern Europe  \n",
      "385    South Africa  \n",
      "386     East Africa  \n",
      "387     East Africa  \n",
      "388     East Africa  \n",
      "\n",
      "[389 rows x 5 columns]\n"
     ]
    }
   ],
   "source": [
    "#Unzipped zipfile from url, get the first csv file as a mapping table for country\n",
    "# \"WID_countries.csv\" which contains the list and meaning of all country and region codes.\n",
    "# This is the first table-- we won't use this table since our interest is USA's states\n",
    "from zipfile import ZipFile\n",
    "from io import BytesIO\n",
    "import urllib.request as urllib2\n",
    "import pandas as pd\n",
    "\n",
    "r = urllib2.urlopen(\" https://wid.world/bulk_download/wid_all_data.zip\").read()\n",
    "with ZipFile(BytesIO(r)) as f:\n",
    "    for name in f.namelist():\n",
    "        if name.endswith('.csv'):\n",
    "            with f.open(name) as zd:\n",
    "                df = pd.read_csv(zd, encoding='latin1', sep=';')\n",
    "                print(df)\n",
    "                break\n",
    "            "
   ]
  },
  {
   "cell_type": "code",
   "execution_count": 4,
   "id": "61432f85",
   "metadata": {},
   "outputs": [
    {
     "data": {
      "text/html": [
       "<div>\n",
       "<style scoped>\n",
       "    .dataframe tbody tr th:only-of-type {\n",
       "        vertical-align: middle;\n",
       "    }\n",
       "\n",
       "    .dataframe tbody tr th {\n",
       "        vertical-align: top;\n",
       "    }\n",
       "\n",
       "    .dataframe thead th {\n",
       "        text-align: right;\n",
       "    }\n",
       "</style>\n",
       "<table border=\"1\" class=\"dataframe\">\n",
       "  <thead>\n",
       "    <tr style=\"text-align: right;\">\n",
       "      <th></th>\n",
       "      <th>alpha2</th>\n",
       "      <th>titlename</th>\n",
       "      <th>shortname</th>\n",
       "      <th>region</th>\n",
       "      <th>region2</th>\n",
       "    </tr>\n",
       "  </thead>\n",
       "  <tbody>\n",
       "    <tr>\n",
       "      <th>0</th>\n",
       "      <td>AD</td>\n",
       "      <td>Andorra</td>\n",
       "      <td>Andorra</td>\n",
       "      <td>Europe</td>\n",
       "      <td>Western Europe</td>\n",
       "    </tr>\n",
       "    <tr>\n",
       "      <th>1</th>\n",
       "      <td>AE</td>\n",
       "      <td>the United Arab Emirates</td>\n",
       "      <td>United Arab Emirates</td>\n",
       "      <td>Asia</td>\n",
       "      <td>West Asia</td>\n",
       "    </tr>\n",
       "    <tr>\n",
       "      <th>2</th>\n",
       "      <td>AF</td>\n",
       "      <td>Afghanistan</td>\n",
       "      <td>Afghanistan</td>\n",
       "      <td>Asia</td>\n",
       "      <td>South Asia</td>\n",
       "    </tr>\n",
       "    <tr>\n",
       "      <th>3</th>\n",
       "      <td>AG</td>\n",
       "      <td>Antigua and Barbuda</td>\n",
       "      <td>Antigua and Barbuda</td>\n",
       "      <td>Americas</td>\n",
       "      <td>Caribbean</td>\n",
       "    </tr>\n",
       "    <tr>\n",
       "      <th>4</th>\n",
       "      <td>AI</td>\n",
       "      <td>Anguilla</td>\n",
       "      <td>Anguilla</td>\n",
       "      <td>Americas</td>\n",
       "      <td>Caribbean</td>\n",
       "    </tr>\n",
       "  </tbody>\n",
       "</table>\n",
       "</div>"
      ],
      "text/plain": [
       "  alpha2                 titlename             shortname    region  \\\n",
       "0     AD                   Andorra               Andorra    Europe   \n",
       "1     AE  the United Arab Emirates  United Arab Emirates      Asia   \n",
       "2     AF               Afghanistan           Afghanistan      Asia   \n",
       "3     AG       Antigua and Barbuda   Antigua and Barbuda  Americas   \n",
       "4     AI                  Anguilla              Anguilla  Americas   \n",
       "\n",
       "          region2  \n",
       "0  Western Europe  \n",
       "1       West Asia  \n",
       "2      South Asia  \n",
       "3       Caribbean  \n",
       "4       Caribbean  "
      ]
     },
     "execution_count": 4,
     "metadata": {},
     "output_type": "execute_result"
    }
   ],
   "source": [
    "df.head()"
   ]
  },
  {
   "cell_type": "code",
   "execution_count": 5,
   "id": "49d45ff6",
   "metadata": {},
   "outputs": [],
   "source": [
    "# This is the second table\n",
    "#file(s) named \"WID_data_XX.csv\" which contains the data for the country/region XX.\n",
    "\n",
    "r = urllib2.urlopen(\" https://wid.world/bulk_download/wid_all_data.zip\").read()\n",
    "countries_list = []\n",
    "with ZipFile(BytesIO(r)) as f:\n",
    "    for name in f.namelist():\n",
    "        if name.startswith('WID_data_'):\n",
    "            with f.open(name) as zd:\n",
    "                country = pd.read_csv(zd, encoding='latin1', sep=';')\n",
    "                countries_list.append(country)\n",
    "all_countries = pd.concat(countries_list)\n",
    "                \n"
   ]
  },
  {
   "cell_type": "code",
   "execution_count": 6,
   "id": "7841023b",
   "metadata": {},
   "outputs": [
    {
     "data": {
      "text/html": [
       "<div>\n",
       "<style scoped>\n",
       "    .dataframe tbody tr th:only-of-type {\n",
       "        vertical-align: middle;\n",
       "    }\n",
       "\n",
       "    .dataframe tbody tr th {\n",
       "        vertical-align: top;\n",
       "    }\n",
       "\n",
       "    .dataframe thead th {\n",
       "        text-align: right;\n",
       "    }\n",
       "</style>\n",
       "<table border=\"1\" class=\"dataframe\">\n",
       "  <thead>\n",
       "    <tr style=\"text-align: right;\">\n",
       "      <th></th>\n",
       "      <th>country</th>\n",
       "      <th>variable</th>\n",
       "      <th>percentile</th>\n",
       "      <th>year</th>\n",
       "      <th>value</th>\n",
       "      <th>age</th>\n",
       "      <th>pop</th>\n",
       "    </tr>\n",
       "  </thead>\n",
       "  <tbody>\n",
       "    <tr>\n",
       "      <th>0</th>\n",
       "      <td>AD</td>\n",
       "      <td>acfcnfi992</td>\n",
       "      <td>p0p100</td>\n",
       "      <td>2012</td>\n",
       "      <td>4239.1</td>\n",
       "      <td>992</td>\n",
       "      <td>i</td>\n",
       "    </tr>\n",
       "    <tr>\n",
       "      <th>1</th>\n",
       "      <td>AD</td>\n",
       "      <td>acfcnfi992</td>\n",
       "      <td>p0p100</td>\n",
       "      <td>2013</td>\n",
       "      <td>4144.1</td>\n",
       "      <td>992</td>\n",
       "      <td>i</td>\n",
       "    </tr>\n",
       "    <tr>\n",
       "      <th>2</th>\n",
       "      <td>AD</td>\n",
       "      <td>acfcnfi992</td>\n",
       "      <td>p0p100</td>\n",
       "      <td>2014</td>\n",
       "      <td>4109.7</td>\n",
       "      <td>992</td>\n",
       "      <td>i</td>\n",
       "    </tr>\n",
       "    <tr>\n",
       "      <th>3</th>\n",
       "      <td>AD</td>\n",
       "      <td>acfcnfi992</td>\n",
       "      <td>p0p100</td>\n",
       "      <td>2015</td>\n",
       "      <td>4119.5</td>\n",
       "      <td>992</td>\n",
       "      <td>i</td>\n",
       "    </tr>\n",
       "    <tr>\n",
       "      <th>4</th>\n",
       "      <td>AD</td>\n",
       "      <td>acfcnfi992</td>\n",
       "      <td>p0p100</td>\n",
       "      <td>2016</td>\n",
       "      <td>4109.4</td>\n",
       "      <td>992</td>\n",
       "      <td>i</td>\n",
       "    </tr>\n",
       "  </tbody>\n",
       "</table>\n",
       "</div>"
      ],
      "text/plain": [
       "  country    variable percentile  year   value  age pop\n",
       "0      AD  acfcnfi992     p0p100  2012  4239.1  992   i\n",
       "1      AD  acfcnfi992     p0p100  2013  4144.1  992   i\n",
       "2      AD  acfcnfi992     p0p100  2014  4109.7  992   i\n",
       "3      AD  acfcnfi992     p0p100  2015  4119.5  992   i\n",
       "4      AD  acfcnfi992     p0p100  2016  4109.4  992   i"
      ]
     },
     "execution_count": 6,
     "metadata": {},
     "output_type": "execute_result"
    }
   ],
   "source": [
    "all_countries.head()"
   ]
  },
  {
   "cell_type": "code",
   "execution_count": 7,
   "id": "82c49df1",
   "metadata": {},
   "outputs": [
    {
     "name": "stdout",
     "output_type": "stream",
     "text": [
      "['AD' 'AE' 'AF' 'AG' 'AI' 'AL' 'AM' 'AN' 'AO' 'AR' 'AS' 'AT' 'AU' 'AW'\n",
      " 'AZ' 'BA' 'BB' 'BD' 'BE' 'BF' 'BG' 'BH' 'BI' 'BJ' 'BM' 'BN' 'BO' 'BR'\n",
      " 'BS' 'BT' 'BW' 'BY' 'BZ' 'CA' 'CD' 'CF' 'CG' 'CH' 'CI' 'CK' 'CL' 'CM'\n",
      " 'CN-RU' 'CN-UR' 'CN' 'CO' 'CR' 'CS' 'CU' 'CV' 'CW' 'CY' 'CZ' 'DD' 'DE-BD'\n",
      " 'DE-BY' 'DE-HB' 'DE-HE' 'DE-HH' 'DE-PR' 'DE-SN' 'DE-WU' 'DE' 'DJ' 'DK'\n",
      " 'DM' 'DO' 'DZ' 'EC' 'EE' 'EG' 'EH' 'ER' 'ES' 'ET' 'FI' 'FJ' 'FK' 'FM'\n",
      " 'FO' 'FR' 'GA' 'GB' 'GD' 'GE' 'GH' 'GI' 'GL' 'GM' 'GN' 'GQ' 'GR' 'GT'\n",
      " 'GU' 'GW' 'GY' 'HK' 'HN' 'HR' 'HT' 'HU' 'ID' 'IE' 'IL' 'IM' 'IN' 'IQ'\n",
      " 'IR' 'IS' 'IT' 'JM' 'JO' 'JP' 'KE' 'KG' 'KH' 'KI' 'KM' 'KN' 'KP' 'KR'\n",
      " 'KS' 'KW' 'KY' 'KZ' 'LA' 'LB' 'LC' 'LI' 'LK' 'LR' 'LS' 'LT' 'LU' 'LV'\n",
      " 'LY' 'MA' 'MC' 'MD' 'ME' 'MG' 'MH' 'MK' 'ML' 'MM' 'MN' 'MO' 'MP' 'MR'\n",
      " 'MS' 'MT' 'MU' 'MV' 'MW' 'MX' 'MY' 'MZ' nan 'NC' 'NE' 'NG' 'NI' 'NL' 'NO'\n",
      " 'NP' 'NR' 'NU' 'NZ' 'OA-MER' 'OA' 'OB-MER' 'OB' 'OC-MER' 'OC' 'OD-MER'\n",
      " 'OD' 'OE-MER' 'OE' 'OH-MER' 'OH' 'OI-MER' 'OI' 'OJ-MER' 'OJ' 'OM' 'PA'\n",
      " 'PE' 'PF' 'PG' 'PH' 'PK' 'PL' 'PM' 'PR' 'PS' 'PT' 'PW' 'PY' 'QA' 'QB-MER'\n",
      " 'QB' 'QC-MER' 'QC' 'QD-MER' 'QD' 'QE-MER' 'QE' 'QF-MER' 'QF' 'QG-MER'\n",
      " 'QG' 'QH-MER' 'QH' 'QI-MER' 'QI' 'QJ-MER' 'QJ' 'QK-MER' 'QK' 'QL-MER'\n",
      " 'QL' 'QM-MER' 'QM' 'QN-MER' 'QN' 'QO-MER' 'QO' 'QP-MER' 'QP' 'QQ-MER'\n",
      " 'QQ' 'QR-MER' 'QR' 'QS-MER' 'QS' 'QT-MER' 'QT' 'QU-MER' 'QU' 'QV-MER'\n",
      " 'QV' 'QW-MER' 'QW' 'QX-MER' 'QX' 'QY-MER' 'QY' 'RO' 'RS' 'RU' 'RW' 'SA'\n",
      " 'SB' 'SC' 'SD' 'SE' 'SG' 'SH' 'SI' 'SK' 'SL' 'SM' 'SN' 'SO' 'SR' 'SS'\n",
      " 'ST' 'SU' 'SV' 'SX' 'SY' 'SZ' 'TC' 'TD' 'TG' 'TH' 'TJ' 'TK' 'TL' 'TM'\n",
      " 'TN' 'TO' 'TR' 'TT' 'TV' 'TW' 'TZ' 'UA' 'UG' 'US-AK' 'US-AL' 'US-AR'\n",
      " 'US-AZ' 'US-CA' 'US-CO' 'US-CT' 'US-DC' 'US-DE' 'US-FL' 'US-GA' 'US-HI'\n",
      " 'US-IA' 'US-ID' 'US-IL' 'US-IN' 'US-KS' 'US-KY' 'US-LA' 'US-MA' 'US-MD'\n",
      " 'US-ME' 'US-MI' 'US-MN' 'US-MO' 'US-MS' 'US-MT' 'US-NC' 'US-ND' 'US-NE'\n",
      " 'US-NH' 'US-NJ' 'US-NM' 'US-NV' 'US-NY' 'US-OH' 'US-OK' 'US-OR' 'US-PA'\n",
      " 'US-RI' 'US-SC' 'US-SD' 'US-TN' 'US-TX' 'US-UT' 'US-VA' 'US-VT' 'US-WA'\n",
      " 'US-WI' 'US-WV' 'US-WY' 'US' 'UY' 'UZ' 'VA' 'VC' 'VE' 'VG' 'VI' 'VN' 'VU'\n",
      " 'WF' 'WO-MER' 'WO' 'WS' 'XA-MER' 'XA' 'XB-MER' 'XB' 'XF-MER' 'XF' 'XI'\n",
      " 'XL-MER' 'XL' 'XM-MER' 'XM' 'XN-MER' 'XN' 'XR-MER' 'XR' 'XS-MER' 'XS'\n",
      " 'YE' 'YU' 'ZA' 'ZM' 'ZW' 'ZZ' 'BL' 'BQ' 'GG' 'JE' 'MF']\n"
     ]
    }
   ],
   "source": [
    "# Check unique country for this data, our interest data could be : \n",
    "# 'US-CO','US-IA', 'US-IL','US-MI','US-MN', 'US-MO','US-NE','US-WI'\n",
    "print(all_countries['country'].unique())"
   ]
  },
  {
   "cell_type": "code",
   "execution_count": 8,
   "id": "01e509a1",
   "metadata": {},
   "outputs": [],
   "source": [
    "# Filterout data for modeling \n",
    "#indicators = ['acfcnfi992', 'ansrnfi992']\n",
    "filtered_us = ['US-IA', 'US-IL','US-MI','US-MN', 'US-MO','US-NE','US-WI','US-OH','US-KS','US-IN','US-SD','US-ND']"
   ]
  },
  {
   "cell_type": "code",
   "execution_count": 9,
   "id": "ef2e9b61",
   "metadata": {},
   "outputs": [],
   "source": [
    "\n",
    "filtered_data =all_countries[(all_countries[\"year\"]>=2018) & all_countries[\"country\"].isin(filtered_us)]\n",
    "\n",
    "\n"
   ]
  },
  {
   "cell_type": "code",
   "execution_count": 10,
   "id": "2dbeecbd",
   "metadata": {},
   "outputs": [
    {
     "data": {
      "text/html": [
       "<div>\n",
       "<style scoped>\n",
       "    .dataframe tbody tr th:only-of-type {\n",
       "        vertical-align: middle;\n",
       "    }\n",
       "\n",
       "    .dataframe tbody tr th {\n",
       "        vertical-align: top;\n",
       "    }\n",
       "\n",
       "    .dataframe thead th {\n",
       "        text-align: right;\n",
       "    }\n",
       "</style>\n",
       "<table border=\"1\" class=\"dataframe\">\n",
       "  <thead>\n",
       "    <tr style=\"text-align: right;\">\n",
       "      <th></th>\n",
       "      <th>country</th>\n",
       "      <th>variable</th>\n",
       "      <th>percentile</th>\n",
       "      <th>year</th>\n",
       "      <th>value</th>\n",
       "      <th>age</th>\n",
       "      <th>pop</th>\n",
       "    </tr>\n",
       "  </thead>\n",
       "  <tbody>\n",
       "    <tr>\n",
       "      <th>100</th>\n",
       "      <td>US-IA</td>\n",
       "      <td>afiinct992</td>\n",
       "      <td>p0p90</td>\n",
       "      <td>2018</td>\n",
       "      <td>51973.5</td>\n",
       "      <td>992</td>\n",
       "      <td>t</td>\n",
       "    </tr>\n",
       "    <tr>\n",
       "      <th>202</th>\n",
       "      <td>US-IA</td>\n",
       "      <td>afiinct992</td>\n",
       "      <td>p0p99</td>\n",
       "      <td>2018</td>\n",
       "      <td>66083.6</td>\n",
       "      <td>992</td>\n",
       "      <td>t</td>\n",
       "    </tr>\n",
       "    <tr>\n",
       "      <th>304</th>\n",
       "      <td>US-IA</td>\n",
       "      <td>afiinct992</td>\n",
       "      <td>p90p100</td>\n",
       "      <td>2018</td>\n",
       "      <td>290739.9</td>\n",
       "      <td>992</td>\n",
       "      <td>t</td>\n",
       "    </tr>\n",
       "    <tr>\n",
       "      <th>406</th>\n",
       "      <td>US-IA</td>\n",
       "      <td>afiinct992</td>\n",
       "      <td>p90p95</td>\n",
       "      <td>2018</td>\n",
       "      <td>159965.5</td>\n",
       "      <td>992</td>\n",
       "      <td>t</td>\n",
       "    </tr>\n",
       "    <tr>\n",
       "      <th>508</th>\n",
       "      <td>US-IA</td>\n",
       "      <td>afiinct992</td>\n",
       "      <td>p95p100</td>\n",
       "      <td>2018</td>\n",
       "      <td>422042.0</td>\n",
       "      <td>992</td>\n",
       "      <td>t</td>\n",
       "    </tr>\n",
       "  </tbody>\n",
       "</table>\n",
       "</div>"
      ],
      "text/plain": [
       "    country    variable percentile  year     value  age pop\n",
       "100   US-IA  afiinct992      p0p90  2018   51973.5  992   t\n",
       "202   US-IA  afiinct992      p0p99  2018   66083.6  992   t\n",
       "304   US-IA  afiinct992    p90p100  2018  290739.9  992   t\n",
       "406   US-IA  afiinct992     p90p95  2018  159965.5  992   t\n",
       "508   US-IA  afiinct992    p95p100  2018  422042.0  992   t"
      ]
     },
     "execution_count": 10,
     "metadata": {},
     "output_type": "execute_result"
    }
   ],
   "source": [
    "filtered_data.head()"
   ]
  },
  {
   "cell_type": "code",
   "execution_count": 11,
   "id": "9467da7f",
   "metadata": {},
   "outputs": [
    {
     "data": {
      "text/plain": [
       "country       528\n",
       "variable      528\n",
       "percentile    528\n",
       "year          528\n",
       "value         528\n",
       "age           528\n",
       "pop           528\n",
       "dtype: int64"
      ]
     },
     "execution_count": 11,
     "metadata": {},
     "output_type": "execute_result"
    }
   ],
   "source": [
    "# check total number of record in filtered data, 528 records for each column is reasonable\n",
    "filtered_data.count()"
   ]
  },
  {
   "cell_type": "code",
   "execution_count": 16,
   "id": "3bfde527",
   "metadata": {},
   "outputs": [
    {
     "name": "stdout",
     "output_type": "stream",
     "text": [
      "['US-IA' 'US-IL' 'US-IN' 'US-KS' 'US-MI' 'US-MN' 'US-MO' 'US-ND' 'US-NE'\n",
      " 'US-OH' 'US-SD' 'US-WI']\n",
      "['afiinct992' 'sptinct992' 'mfiinct992' 'npopult992' 'ntaxret992'\n",
      " 'sfiinct992']\n",
      "['p0p90' 'p0p99' 'p90p100' 'p90p95' 'p95p100' 'p95p99' 'p99.5p100'\n",
      " 'p99.5p99.9' 'p99.99p100' 'p99.9p100' 'p99.9p99.99' 'p99p100' 'p99p99.5'\n",
      " 'p0p100']\n",
      "[992]\n",
      "['t']\n",
      "[2018]\n"
     ]
    }
   ],
   "source": [
    "# Check the unique for each column\n",
    "print(filtered_data['country'].unique())\n",
    "print(filtered_data['variable'].unique())\n",
    "print(filtered_data['percentile'].unique())\n",
    "print(filtered_data['age'].unique())\n",
    "# t= tax unit, according to metadata's description\n",
    "print(filtered_data['pop'].unique())\n",
    "# We only have 2018 data\n",
    "print(filtered_data['year'].unique())"
   ]
  },
  {
   "cell_type": "code",
   "execution_count": 17,
   "id": "023e0a81",
   "metadata": {},
   "outputs": [],
   "source": [
    "# this is the 3rd table---meta data-- this is indicator table\n",
    "#file(s) named \"WID_metadata_XX.csv\" which contains the metadata for the country/region XX.\n",
    "r = urllib2.urlopen(\" https://wid.world/bulk_download/wid_all_data.zip\").read()\n",
    "metadata_list = []\n",
    "with ZipFile(BytesIO(r)) as f:\n",
    "    for name in f.namelist():\n",
    "        if name.startswith('WID_metadata_'):\n",
    "            with f.open(name) as zd:\n",
    "                metadata = pd.read_csv(zd, encoding='latin1', sep=';')\n",
    "                metadata_list.append(metadata)\n",
    "all_metadata = pd.concat(metadata_list)"
   ]
  },
  {
   "cell_type": "code",
   "execution_count": 18,
   "id": "4d2032f0",
   "metadata": {},
   "outputs": [
    {
     "data": {
      "text/html": [
       "<div>\n",
       "<style scoped>\n",
       "    .dataframe tbody tr th:only-of-type {\n",
       "        vertical-align: middle;\n",
       "    }\n",
       "\n",
       "    .dataframe tbody tr th {\n",
       "        vertical-align: top;\n",
       "    }\n",
       "\n",
       "    .dataframe thead th {\n",
       "        text-align: right;\n",
       "    }\n",
       "</style>\n",
       "<table border=\"1\" class=\"dataframe\">\n",
       "  <thead>\n",
       "    <tr style=\"text-align: right;\">\n",
       "      <th></th>\n",
       "      <th>country</th>\n",
       "      <th>variable</th>\n",
       "      <th>age</th>\n",
       "      <th>pop</th>\n",
       "      <th>countryname</th>\n",
       "      <th>shortname</th>\n",
       "      <th>simpledes</th>\n",
       "      <th>technicaldes</th>\n",
       "      <th>shorttype</th>\n",
       "      <th>longtype</th>\n",
       "      <th>shortpop</th>\n",
       "      <th>longpop</th>\n",
       "      <th>shortage</th>\n",
       "      <th>longage</th>\n",
       "      <th>unit</th>\n",
       "      <th>source</th>\n",
       "      <th>method</th>\n",
       "      <th>extrapolation</th>\n",
       "      <th>data_points</th>\n",
       "    </tr>\n",
       "  </thead>\n",
       "  <tbody>\n",
       "    <tr>\n",
       "      <th>0</th>\n",
       "      <td>AD</td>\n",
       "      <td>acfcnfi992</td>\n",
       "      <td>992</td>\n",
       "      <td>i</td>\n",
       "      <td>Andorra</td>\n",
       "      <td>Consumption of fixed capital of non-financial ...</td>\n",
       "      <td>NaN</td>\n",
       "      <td>NaN</td>\n",
       "      <td>Average</td>\n",
       "      <td>Average income or wealth between two percentil...</td>\n",
       "      <td>individuals</td>\n",
       "      <td>The base unit is the individual (rather than t...</td>\n",
       "      <td>Adults</td>\n",
       "      <td>The population is comprised of individuals ove...</td>\n",
       "      <td>EUR</td>\n",
       "      <td>See [URL][URL_LINK]https://wid.world/document/...</td>\n",
       "      <td>WID.world estimations as a proportion of GDP b...</td>\n",
       "      <td>NaN</td>\n",
       "      <td>NaN</td>\n",
       "    </tr>\n",
       "    <tr>\n",
       "      <th>1</th>\n",
       "      <td>AD</td>\n",
       "      <td>acfcnfi999</td>\n",
       "      <td>999</td>\n",
       "      <td>i</td>\n",
       "      <td>Andorra</td>\n",
       "      <td>Consumption of fixed capital of non-financial ...</td>\n",
       "      <td>NaN</td>\n",
       "      <td>NaN</td>\n",
       "      <td>Average</td>\n",
       "      <td>Average income or wealth between two percentil...</td>\n",
       "      <td>individuals</td>\n",
       "      <td>The base unit is the individual (rather than t...</td>\n",
       "      <td>All Ages</td>\n",
       "      <td>The population is comprised of individuals of ...</td>\n",
       "      <td>EUR</td>\n",
       "      <td>See [URL][URL_LINK]https://wid.world/document/...</td>\n",
       "      <td>WID.world estimations as a proportion of GDP b...</td>\n",
       "      <td>NaN</td>\n",
       "      <td>NaN</td>\n",
       "    </tr>\n",
       "    <tr>\n",
       "      <th>2</th>\n",
       "      <td>AD</td>\n",
       "      <td>acomnxi992</td>\n",
       "      <td>992</td>\n",
       "      <td>i</td>\n",
       "      <td>Andorra</td>\n",
       "      <td>Net foreign labor income</td>\n",
       "      <td>NaN</td>\n",
       "      <td>NaN</td>\n",
       "      <td>Average</td>\n",
       "      <td>Average income or wealth between two percentil...</td>\n",
       "      <td>individuals</td>\n",
       "      <td>The base unit is the individual (rather than t...</td>\n",
       "      <td>Adults</td>\n",
       "      <td>The population is comprised of individuals ove...</td>\n",
       "      <td>EUR</td>\n",
       "      <td>See [URL][URL_TEXT]DINA guidelines[/URL_TEXT][...</td>\n",
       "      <td>WID.world estimations as a proportion of GDP b...</td>\n",
       "      <td>NaN</td>\n",
       "      <td>NaN</td>\n",
       "    </tr>\n",
       "    <tr>\n",
       "      <th>3</th>\n",
       "      <td>AD</td>\n",
       "      <td>acomnxi999</td>\n",
       "      <td>999</td>\n",
       "      <td>i</td>\n",
       "      <td>Andorra</td>\n",
       "      <td>Net foreign labor income</td>\n",
       "      <td>NaN</td>\n",
       "      <td>NaN</td>\n",
       "      <td>Average</td>\n",
       "      <td>Average income or wealth between two percentil...</td>\n",
       "      <td>individuals</td>\n",
       "      <td>The base unit is the individual (rather than t...</td>\n",
       "      <td>All Ages</td>\n",
       "      <td>The population is comprised of individuals of ...</td>\n",
       "      <td>EUR</td>\n",
       "      <td>See [URL][URL_TEXT]DINA guidelines[/URL_TEXT][...</td>\n",
       "      <td>WID.world estimations as a proportion of GDP b...</td>\n",
       "      <td>NaN</td>\n",
       "      <td>NaN</td>\n",
       "    </tr>\n",
       "    <tr>\n",
       "      <th>4</th>\n",
       "      <td>AD</td>\n",
       "      <td>aconfci992</td>\n",
       "      <td>992</td>\n",
       "      <td>i</td>\n",
       "      <td>Andorra</td>\n",
       "      <td>Consumption of fixed capital</td>\n",
       "      <td>Consumption of fixed capital of national econo...</td>\n",
       "      <td>NaN</td>\n",
       "      <td>Average</td>\n",
       "      <td>Average income or wealth between two percentil...</td>\n",
       "      <td>individuals</td>\n",
       "      <td>The base unit is the individual (rather than t...</td>\n",
       "      <td>Adults</td>\n",
       "      <td>The population is comprised of individuals ove...</td>\n",
       "      <td>EUR</td>\n",
       "      <td>See [URL][URL_LINK]https://wid.world/document/...</td>\n",
       "      <td>WID.world estimations as a proportion of GDP b...</td>\n",
       "      <td>NaN</td>\n",
       "      <td>NaN</td>\n",
       "    </tr>\n",
       "  </tbody>\n",
       "</table>\n",
       "</div>"
      ],
      "text/plain": [
       "  country    variable  age pop countryname  \\\n",
       "0      AD  acfcnfi992  992   i     Andorra   \n",
       "1      AD  acfcnfi999  999   i     Andorra   \n",
       "2      AD  acomnxi992  992   i     Andorra   \n",
       "3      AD  acomnxi999  999   i     Andorra   \n",
       "4      AD  aconfci992  992   i     Andorra   \n",
       "\n",
       "                                           shortname  \\\n",
       "0  Consumption of fixed capital of non-financial ...   \n",
       "1  Consumption of fixed capital of non-financial ...   \n",
       "2                           Net foreign labor income   \n",
       "3                           Net foreign labor income   \n",
       "4                       Consumption of fixed capital   \n",
       "\n",
       "                                           simpledes technicaldes shorttype  \\\n",
       "0                                                NaN          NaN   Average   \n",
       "1                                                NaN          NaN   Average   \n",
       "2                                                NaN          NaN   Average   \n",
       "3                                                NaN          NaN   Average   \n",
       "4  Consumption of fixed capital of national econo...          NaN   Average   \n",
       "\n",
       "                                            longtype     shortpop  \\\n",
       "0  Average income or wealth between two percentil...  individuals   \n",
       "1  Average income or wealth between two percentil...  individuals   \n",
       "2  Average income or wealth between two percentil...  individuals   \n",
       "3  Average income or wealth between two percentil...  individuals   \n",
       "4  Average income or wealth between two percentil...  individuals   \n",
       "\n",
       "                                             longpop  shortage  \\\n",
       "0  The base unit is the individual (rather than t...    Adults   \n",
       "1  The base unit is the individual (rather than t...  All Ages   \n",
       "2  The base unit is the individual (rather than t...    Adults   \n",
       "3  The base unit is the individual (rather than t...  All Ages   \n",
       "4  The base unit is the individual (rather than t...    Adults   \n",
       "\n",
       "                                             longage unit  \\\n",
       "0  The population is comprised of individuals ove...  EUR   \n",
       "1  The population is comprised of individuals of ...  EUR   \n",
       "2  The population is comprised of individuals ove...  EUR   \n",
       "3  The population is comprised of individuals of ...  EUR   \n",
       "4  The population is comprised of individuals ove...  EUR   \n",
       "\n",
       "                                              source  \\\n",
       "0  See [URL][URL_LINK]https://wid.world/document/...   \n",
       "1  See [URL][URL_LINK]https://wid.world/document/...   \n",
       "2  See [URL][URL_TEXT]DINA guidelines[/URL_TEXT][...   \n",
       "3  See [URL][URL_TEXT]DINA guidelines[/URL_TEXT][...   \n",
       "4  See [URL][URL_LINK]https://wid.world/document/...   \n",
       "\n",
       "                                              method extrapolation data_points  \n",
       "0  WID.world estimations as a proportion of GDP b...           NaN         NaN  \n",
       "1  WID.world estimations as a proportion of GDP b...           NaN         NaN  \n",
       "2  WID.world estimations as a proportion of GDP b...           NaN         NaN  \n",
       "3  WID.world estimations as a proportion of GDP b...           NaN         NaN  \n",
       "4  WID.world estimations as a proportion of GDP b...           NaN         NaN  "
      ]
     },
     "execution_count": 18,
     "metadata": {},
     "output_type": "execute_result"
    }
   ],
   "source": [
    "all_metadata.head()"
   ]
  },
  {
   "attachments": {},
   "cell_type": "markdown",
   "id": "350c5eb3",
   "metadata": {},
   "source": [
    "# 2nd Step: Joining Data"
   ]
  },
  {
   "cell_type": "code",
   "execution_count": 19,
   "id": "acf6ab00",
   "metadata": {},
   "outputs": [
    {
     "name": "stdout",
     "output_type": "stream",
     "text": [
      "  country  variable_x age_x pop_x countryname       shortname  \\\n",
      "0   US-IA  afiinct992   992     t        Iowa  Fiscal income    \n",
      "1   US-IA  afiinct992   992     t        Iowa  Fiscal income    \n",
      "2   US-IA  afiinct992   992     t        Iowa  Fiscal income    \n",
      "3   US-IA  afiinct992   992     t        Iowa  Fiscal income    \n",
      "4   US-IA  afiinct992   992     t        Iowa  Fiscal income    \n",
      "\n",
      "                                           simpledes  \\\n",
      "0  Fiscal income is defined as the sum of all inc...   \n",
      "1  Fiscal income is defined as the sum of all inc...   \n",
      "2  Fiscal income is defined as the sum of all inc...   \n",
      "3  Fiscal income is defined as the sum of all inc...   \n",
      "4  Fiscal income is defined as the sum of all inc...   \n",
      "\n",
      "                                        technicaldes shorttype  \\\n",
      "0  [Fiscal income ]=[Fiscal labour income [total ...   Average   \n",
      "1  [Fiscal income ]=[Fiscal labour income [total ...   Average   \n",
      "2  [Fiscal income ]=[Fiscal labour income [total ...   Average   \n",
      "3  [Fiscal income ]=[Fiscal labour income [total ...   Average   \n",
      "4  [Fiscal income ]=[Fiscal labour income [total ...   Average   \n",
      "\n",
      "                                            longtype  ...  \\\n",
      "0  Average income or wealth between two percentil...  ...   \n",
      "1  Average income or wealth between two percentil...  ...   \n",
      "2  Average income or wealth between two percentil...  ...   \n",
      "3  Average income or wealth between two percentil...  ...   \n",
      "4  Average income or wealth between two percentil...  ...   \n",
      "\n",
      "                                              source method extrapolation  \\\n",
      "0  [URL][URK_LINK]http://wordpress.wid.world/wp-c...    NaN           NaN   \n",
      "1  [URL][URK_LINK]http://wordpress.wid.world/wp-c...    NaN           NaN   \n",
      "2  [URL][URK_LINK]http://wordpress.wid.world/wp-c...    NaN           NaN   \n",
      "3  [URL][URK_LINK]http://wordpress.wid.world/wp-c...    NaN           NaN   \n",
      "4  [URL][URK_LINK]http://wordpress.wid.world/wp-c...    NaN           NaN   \n",
      "\n",
      "  data_points  variable_y percentile  year     value age_y pop_y  \n",
      "0         NaN  afiinct992      p0p90  2018   51973.5   992     t  \n",
      "1         NaN  afiinct992      p0p99  2018   66083.6   992     t  \n",
      "2         NaN  afiinct992    p90p100  2018  290739.9   992     t  \n",
      "3         NaN  afiinct992     p90p95  2018  159965.5   992     t  \n",
      "4         NaN  afiinct992    p95p100  2018  422042.0   992     t  \n",
      "\n",
      "[5 rows x 25 columns]\n"
     ]
    }
   ],
   "source": [
    "# We will join our filtered data set to see how many indicators we can get\n",
    "import pandas as pd\n",
    "import numpy as np\n",
    "\n",
    "df1 = pd.merge(all_metadata, filtered_data, how = 'inner', on='country')\n",
    "print(df1.head())\n",
    "\n"
   ]
  },
  {
   "attachments": {},
   "cell_type": "markdown",
   "id": "9612c481",
   "metadata": {},
   "source": [
    "# 3rd Step: Cleaning Data"
   ]
  },
  {
   "cell_type": "code",
   "execution_count": 20,
   "id": "63f42e1c",
   "metadata": {},
   "outputs": [
    {
     "name": "stdout",
     "output_type": "stream",
     "text": [
      "country          3168\n",
      "variable_x       3168\n",
      "age_x            3168\n",
      "pop_x            3168\n",
      "countryname      3168\n",
      "shortname        3168\n",
      "simpledes        3168\n",
      "technicaldes     2112\n",
      "shorttype        3168\n",
      "longtype         3168\n",
      "shortpop         3168\n",
      "longpop          3168\n",
      "shortage         3168\n",
      "longage          3168\n",
      "unit             3168\n",
      "source           3168\n",
      "method            528\n",
      "extrapolation       0\n",
      "data_points         0\n",
      "variable_y       3168\n",
      "percentile       3168\n",
      "year             3168\n",
      "value            3168\n",
      "age_y            3168\n",
      "pop_y            3168\n",
      "dtype: int64\n"
     ]
    }
   ],
   "source": [
    "# Check total count for each column in our new dataframe\n",
    "print(df1.count())"
   ]
  },
  {
   "cell_type": "code",
   "execution_count": 21,
   "id": "edc82665",
   "metadata": {},
   "outputs": [],
   "source": [
    "# We found there are two columns with 0 records, we will drop extrapolation, and data_points columns\n",
    "# We also need to drop unncessary colums: source\n",
    "df1 = df1.drop(['extrapolation','data_points','source'], axis=1)\n"
   ]
  },
  {
   "cell_type": "code",
   "execution_count": 22,
   "id": "1cb01fe9",
   "metadata": {},
   "outputs": [
    {
     "name": "stdout",
     "output_type": "stream",
     "text": [
      "3696\n",
      "True\n",
      "country            0\n",
      "variable_x         0\n",
      "age_x              0\n",
      "pop_x              0\n",
      "countryname        0\n",
      "shortname          0\n",
      "simpledes          0\n",
      "technicaldes    1056\n",
      "shorttype          0\n",
      "longtype           0\n",
      "shortpop           0\n",
      "longpop            0\n",
      "shortage           0\n",
      "longage            0\n",
      "unit               0\n",
      "method          2640\n",
      "variable_y         0\n",
      "percentile         0\n",
      "year               0\n",
      "value              0\n",
      "age_y              0\n",
      "pop_y              0\n",
      "dtype: int64\n"
     ]
    }
   ],
   "source": [
    "# Check null value\n",
    "print(df1.isna().sum().sum())\n",
    "print(df1.isnull(). values. any())\n",
    "print(df1.isna().sum())"
   ]
  },
  {
   "cell_type": "code",
   "execution_count": 23,
   "id": "d1188b0b",
   "metadata": {},
   "outputs": [],
   "source": [
    "#  the two columns simpledes and technicaldes don't contain information that we want, we cand drop those two column\n",
    "# instead of drop null value since it could affect number of records of our data\n",
    "df1 = df1.drop(['technicaldes','simpledes'], axis=1)"
   ]
  },
  {
   "cell_type": "code",
   "execution_count": 24,
   "id": "7e4169b8",
   "metadata": {},
   "outputs": [
    {
     "name": "stdout",
     "output_type": "stream",
     "text": [
      "country           0\n",
      "variable_x        0\n",
      "age_x             0\n",
      "pop_x             0\n",
      "countryname       0\n",
      "shortname         0\n",
      "shorttype         0\n",
      "longtype          0\n",
      "shortpop          0\n",
      "longpop           0\n",
      "shortage          0\n",
      "longage           0\n",
      "unit              0\n",
      "method         2640\n",
      "variable_y        0\n",
      "percentile        0\n",
      "year              0\n",
      "value             0\n",
      "age_y             0\n",
      "pop_y             0\n",
      "dtype: int64\n"
     ]
    }
   ],
   "source": [
    "# Check null value again\n",
    "print(df1.isna().sum())"
   ]
  },
  {
   "cell_type": "code",
   "execution_count": 25,
   "id": "8965930f",
   "metadata": {},
   "outputs": [],
   "source": [
    "# method column is also not useful, we can drop this column as well\n",
    "df1 = df1.drop(['method'], axis=1)\n"
   ]
  },
  {
   "cell_type": "code",
   "execution_count": 26,
   "id": "130577a2",
   "metadata": {},
   "outputs": [
    {
     "name": "stdout",
     "output_type": "stream",
     "text": [
      "country        0\n",
      "variable_x     0\n",
      "age_x          0\n",
      "pop_x          0\n",
      "countryname    0\n",
      "shortname      0\n",
      "shorttype      0\n",
      "longtype       0\n",
      "shortpop       0\n",
      "longpop        0\n",
      "shortage       0\n",
      "longage        0\n",
      "unit           0\n",
      "variable_y     0\n",
      "percentile     0\n",
      "year           0\n",
      "value          0\n",
      "age_y          0\n",
      "pop_y          0\n",
      "dtype: int64\n"
     ]
    }
   ],
   "source": [
    "# Check null value again\n",
    "print(df1.isna().sum())"
   ]
  },
  {
   "cell_type": "code",
   "execution_count": 27,
   "id": "69ae4fff",
   "metadata": {},
   "outputs": [
    {
     "data": {
      "text/html": [
       "<div>\n",
       "<style scoped>\n",
       "    .dataframe tbody tr th:only-of-type {\n",
       "        vertical-align: middle;\n",
       "    }\n",
       "\n",
       "    .dataframe tbody tr th {\n",
       "        vertical-align: top;\n",
       "    }\n",
       "\n",
       "    .dataframe thead th {\n",
       "        text-align: right;\n",
       "    }\n",
       "</style>\n",
       "<table border=\"1\" class=\"dataframe\">\n",
       "  <thead>\n",
       "    <tr style=\"text-align: right;\">\n",
       "      <th></th>\n",
       "      <th>country</th>\n",
       "      <th>variable_x</th>\n",
       "      <th>age_x</th>\n",
       "      <th>pop_x</th>\n",
       "      <th>countryname</th>\n",
       "      <th>shortname</th>\n",
       "      <th>shorttype</th>\n",
       "      <th>longtype</th>\n",
       "      <th>shortpop</th>\n",
       "      <th>longpop</th>\n",
       "      <th>shortage</th>\n",
       "      <th>longage</th>\n",
       "      <th>unit</th>\n",
       "      <th>variable_y</th>\n",
       "      <th>percentile</th>\n",
       "      <th>year</th>\n",
       "      <th>value</th>\n",
       "      <th>age_y</th>\n",
       "      <th>pop_y</th>\n",
       "    </tr>\n",
       "  </thead>\n",
       "  <tbody>\n",
       "    <tr>\n",
       "      <th>0</th>\n",
       "      <td>US-IA</td>\n",
       "      <td>afiinct992</td>\n",
       "      <td>992</td>\n",
       "      <td>t</td>\n",
       "      <td>Iowa</td>\n",
       "      <td>Fiscal income</td>\n",
       "      <td>Average</td>\n",
       "      <td>Average income or wealth between two percentil...</td>\n",
       "      <td>tax unit</td>\n",
       "      <td>The base unit is the tax unit defined by natio...</td>\n",
       "      <td>Adults</td>\n",
       "      <td>The population is comprised of individuals ove...</td>\n",
       "      <td>USD</td>\n",
       "      <td>afiinct992</td>\n",
       "      <td>p0p90</td>\n",
       "      <td>2018</td>\n",
       "      <td>51973.5</td>\n",
       "      <td>992</td>\n",
       "      <td>t</td>\n",
       "    </tr>\n",
       "    <tr>\n",
       "      <th>1</th>\n",
       "      <td>US-IA</td>\n",
       "      <td>afiinct992</td>\n",
       "      <td>992</td>\n",
       "      <td>t</td>\n",
       "      <td>Iowa</td>\n",
       "      <td>Fiscal income</td>\n",
       "      <td>Average</td>\n",
       "      <td>Average income or wealth between two percentil...</td>\n",
       "      <td>tax unit</td>\n",
       "      <td>The base unit is the tax unit defined by natio...</td>\n",
       "      <td>Adults</td>\n",
       "      <td>The population is comprised of individuals ove...</td>\n",
       "      <td>USD</td>\n",
       "      <td>afiinct992</td>\n",
       "      <td>p0p99</td>\n",
       "      <td>2018</td>\n",
       "      <td>66083.6</td>\n",
       "      <td>992</td>\n",
       "      <td>t</td>\n",
       "    </tr>\n",
       "    <tr>\n",
       "      <th>2</th>\n",
       "      <td>US-IA</td>\n",
       "      <td>afiinct992</td>\n",
       "      <td>992</td>\n",
       "      <td>t</td>\n",
       "      <td>Iowa</td>\n",
       "      <td>Fiscal income</td>\n",
       "      <td>Average</td>\n",
       "      <td>Average income or wealth between two percentil...</td>\n",
       "      <td>tax unit</td>\n",
       "      <td>The base unit is the tax unit defined by natio...</td>\n",
       "      <td>Adults</td>\n",
       "      <td>The population is comprised of individuals ove...</td>\n",
       "      <td>USD</td>\n",
       "      <td>afiinct992</td>\n",
       "      <td>p90p100</td>\n",
       "      <td>2018</td>\n",
       "      <td>290739.9</td>\n",
       "      <td>992</td>\n",
       "      <td>t</td>\n",
       "    </tr>\n",
       "    <tr>\n",
       "      <th>3</th>\n",
       "      <td>US-IA</td>\n",
       "      <td>afiinct992</td>\n",
       "      <td>992</td>\n",
       "      <td>t</td>\n",
       "      <td>Iowa</td>\n",
       "      <td>Fiscal income</td>\n",
       "      <td>Average</td>\n",
       "      <td>Average income or wealth between two percentil...</td>\n",
       "      <td>tax unit</td>\n",
       "      <td>The base unit is the tax unit defined by natio...</td>\n",
       "      <td>Adults</td>\n",
       "      <td>The population is comprised of individuals ove...</td>\n",
       "      <td>USD</td>\n",
       "      <td>afiinct992</td>\n",
       "      <td>p90p95</td>\n",
       "      <td>2018</td>\n",
       "      <td>159965.5</td>\n",
       "      <td>992</td>\n",
       "      <td>t</td>\n",
       "    </tr>\n",
       "    <tr>\n",
       "      <th>4</th>\n",
       "      <td>US-IA</td>\n",
       "      <td>afiinct992</td>\n",
       "      <td>992</td>\n",
       "      <td>t</td>\n",
       "      <td>Iowa</td>\n",
       "      <td>Fiscal income</td>\n",
       "      <td>Average</td>\n",
       "      <td>Average income or wealth between two percentil...</td>\n",
       "      <td>tax unit</td>\n",
       "      <td>The base unit is the tax unit defined by natio...</td>\n",
       "      <td>Adults</td>\n",
       "      <td>The population is comprised of individuals ove...</td>\n",
       "      <td>USD</td>\n",
       "      <td>afiinct992</td>\n",
       "      <td>p95p100</td>\n",
       "      <td>2018</td>\n",
       "      <td>422042.0</td>\n",
       "      <td>992</td>\n",
       "      <td>t</td>\n",
       "    </tr>\n",
       "  </tbody>\n",
       "</table>\n",
       "</div>"
      ],
      "text/plain": [
       "  country  variable_x age_x pop_x countryname       shortname shorttype  \\\n",
       "0   US-IA  afiinct992   992     t        Iowa  Fiscal income    Average   \n",
       "1   US-IA  afiinct992   992     t        Iowa  Fiscal income    Average   \n",
       "2   US-IA  afiinct992   992     t        Iowa  Fiscal income    Average   \n",
       "3   US-IA  afiinct992   992     t        Iowa  Fiscal income    Average   \n",
       "4   US-IA  afiinct992   992     t        Iowa  Fiscal income    Average   \n",
       "\n",
       "                                            longtype  shortpop  \\\n",
       "0  Average income or wealth between two percentil...  tax unit   \n",
       "1  Average income or wealth between two percentil...  tax unit   \n",
       "2  Average income or wealth between two percentil...  tax unit   \n",
       "3  Average income or wealth between two percentil...  tax unit   \n",
       "4  Average income or wealth between two percentil...  tax unit   \n",
       "\n",
       "                                             longpop shortage  \\\n",
       "0  The base unit is the tax unit defined by natio...   Adults   \n",
       "1  The base unit is the tax unit defined by natio...   Adults   \n",
       "2  The base unit is the tax unit defined by natio...   Adults   \n",
       "3  The base unit is the tax unit defined by natio...   Adults   \n",
       "4  The base unit is the tax unit defined by natio...   Adults   \n",
       "\n",
       "                                             longage unit  variable_y  \\\n",
       "0  The population is comprised of individuals ove...  USD  afiinct992   \n",
       "1  The population is comprised of individuals ove...  USD  afiinct992   \n",
       "2  The population is comprised of individuals ove...  USD  afiinct992   \n",
       "3  The population is comprised of individuals ove...  USD  afiinct992   \n",
       "4  The population is comprised of individuals ove...  USD  afiinct992   \n",
       "\n",
       "  percentile  year     value age_y pop_y  \n",
       "0      p0p90  2018   51973.5   992     t  \n",
       "1      p0p99  2018   66083.6   992     t  \n",
       "2    p90p100  2018  290739.9   992     t  \n",
       "3     p90p95  2018  159965.5   992     t  \n",
       "4    p95p100  2018  422042.0   992     t  "
      ]
     },
     "metadata": {},
     "output_type": "display_data"
    }
   ],
   "source": [
    "# Using display to display the entire of data frame\n",
    "display(df1.head())"
   ]
  },
  {
   "attachments": {},
   "cell_type": "markdown",
   "id": "c0c0502a",
   "metadata": {},
   "source": [
    "# Step 4: Visualizations"
   ]
  },
  {
   "cell_type": "code",
   "execution_count": 28,
   "id": "a13253d6",
   "metadata": {},
   "outputs": [
    {
     "name": "stdout",
     "output_type": "stream",
     "text": [
      "['Iowa' 'Illinois' 'Indiana' 'Kansas' 'Michigan' 'Minnesota' 'Missouri'\n",
      " 'North Dakota' 'Nebraska' 'Ohio' 'South Dakota' 'Wisconsin']\n"
     ]
    }
   ],
   "source": [
    "# Check number of states in our dataframe\n",
    "print(df1['countryname'].unique())"
   ]
  },
  {
   "cell_type": "code",
   "execution_count": 29,
   "id": "286312e8",
   "metadata": {},
   "outputs": [
    {
     "name": "stdout",
     "output_type": "stream",
     "text": [
      "countryname\n",
      "Illinois        1.270959e+10\n",
      "Indiana         5.276602e+09\n",
      "Iowa            2.679105e+09\n",
      "Kansas          2.583949e+09\n",
      "Michigan        7.780823e+09\n",
      "Minnesota       5.565077e+09\n",
      "Missouri        4.759303e+09\n",
      "Nebraska        1.772526e+09\n",
      "North Dakota    7.456804e+08\n",
      "Ohio            9.441008e+09\n",
      "South Dakota    8.047602e+08\n",
      "Wisconsin       5.099230e+09\n",
      "Name: value, dtype: float64\n"
     ]
    }
   ],
   "source": [
    "# Plot income by each state\n",
    "average_income = df1.groupby('countryname')['value'].mean()\n",
    "print(average_income)"
   ]
  },
  {
   "cell_type": "code",
   "execution_count": 30,
   "id": "f4a6bf46",
   "metadata": {},
   "outputs": [
    {
     "data": {
      "text/plain": [
       "<matplotlib.legend.Legend at 0x11d2b0790>"
      ]
     },
     "execution_count": 30,
     "metadata": {},
     "output_type": "execute_result"
    },
    {
     "data": {
      "image/png": "[encoded data removed]",
      "text/plain": [
       "<Figure size 640x480 with 1 Axes>"
      ]
     },
     "metadata": {},
     "output_type": "display_data"
    }
   ],
   "source": [
    "import matplotlib.pyplot as plt\n",
    "\n",
    "\n",
    "total_income = df1.groupby('countryname')['value'].sum()\n",
    "average_income = df1.groupby('countryname')['value'].mean()\n",
    "\n",
    "total_income.plot(label=\"Total Income\")\n",
    "average_income.plot(label=\"Average Income\")\n",
    "\n",
    "plt.xlabel(\"State Name\")\n",
    "plt.ylabel(\"log$_{10}$(Value)\")\n",
    "plt.yscale(\"log\")\n",
    "plt.legend()\n",
    "#plt.tight_layout()\n"
   ]
  },
  {
   "attachments": {},
   "cell_type": "markdown",
   "id": "da8b5d28",
   "metadata": {},
   "source": [
    "# Filter data for African countries"
   ]
  },
  {
   "cell_type": "code",
   "execution_count": 31,
   "id": "38b46491",
   "metadata": {},
   "outputs": [
    {
     "data": {
      "text/plain": [
       "region        519040\n",
       "region2       519040\n",
       "country       509435\n",
       "variable      519040\n",
       "percentile    519040\n",
       "year          519040\n",
       "value         519040\n",
       "age           519040\n",
       "pop           519040\n",
       "dtype: int64"
      ]
     },
     "execution_count": 31,
     "metadata": {},
     "output_type": "execute_result"
    }
   ],
   "source": [
    "df_test = df.merge( all_countries, how = 'inner', left_on = 'alpha2', right_on='country')\n",
    "#filtering for years >=2020 because the kernel can't handle any more data\n",
    "\n",
    "filtered_africa = ['Africa']\n",
    "\n",
    "filtered_africa_data =df_test[(df_test[\"year\"]>=2020) & df_test[\"region\"].isin(filtered_africa)]\n",
    "filtered_africa_data = filtered_africa_data.drop(['titlename','shortname','alpha2'], axis=1)\n",
    "# check total number of record in filtered data\n",
    "filtered_africa_data.count()"
   ]
  },
  {
   "cell_type": "code",
   "execution_count": 32,
   "id": "7806e9e6",
   "metadata": {},
   "outputs": [],
   "source": [
    "#Filter for macroeconomic variables and for populations of all ages\n",
    "filtered_metadata = all_metadata[(all_metadata['longtype'] == \"Macroeconomic variable (i.e. corresponding to national economy rather than to a given group of individuals). The associated percentile is of the form 'pall'.\")  & (all_metadata['shortage'] == 'All Ages')]"
   ]
  },
  {
   "cell_type": "code",
   "execution_count": 33,
   "id": "dd246a82",
   "metadata": {},
   "outputs": [],
   "source": [
    "# Merge filtered metadata to African country data\n",
    "df2 = pd.merge(filtered_metadata, filtered_africa_data, how = 'inner', on='country')"
   ]
  },
  {
   "cell_type": "code",
   "execution_count": 34,
   "id": "a68b2678",
   "metadata": {},
   "outputs": [
    {
     "name": "stdout",
     "output_type": "stream",
     "text": [
      "variable_x     0\n",
      "age_x          0\n",
      "pop_x          0\n",
      "countryname    0\n",
      "shortname      0\n",
      "shorttype      0\n",
      "longtype       0\n",
      "shortpop       0\n",
      "longpop        0\n",
      "shortage       0\n",
      "longage        0\n",
      "region         0\n",
      "region2        0\n",
      "variable_y     0\n",
      "percentile     0\n",
      "year           0\n",
      "value          0\n",
      "age_y          0\n",
      "pop_y          0\n",
      "dtype: int64\n"
     ]
    }
   ],
   "source": [
    "# Dropping columns with missing values or unneccessary information\n",
    "df2 = df2.drop(['extrapolation','data_points','source','technicaldes','simpledes','country','method','unit'], axis=1)\n",
    "# Check null value again\n",
    "print(df2.isna().sum())"
   ]
  },
  {
   "cell_type": "code",
   "execution_count": 35,
   "id": "93d4dce6",
   "metadata": {},
   "outputs": [
    {
     "name": "stdout",
     "output_type": "stream",
     "text": [
      "['Compensation of employees ' 'Net foreign labor income'\n",
      " 'Compensation of employees paid from the rest of the world'\n",
      " 'Compensation of employees received from the rest of the world'\n",
      " 'Consumption of fixed capital' 'Net foreign direct investment income'\n",
      " 'Foreign direct investment income paid to the rest of the world'\n",
      " 'Foreign direct investment income received  from the rest of the world'\n",
      " 'Foreign income paid to the rest of the world'\n",
      " 'Foreign income received from the rest of the world'\n",
      " 'Net foreign labor and capital income'\n",
      " 'Labor and capital income paid to the rest of the world'\n",
      " 'Labor and capital income from the rest of the world'\n",
      " 'Subsidies on production received from the rest of the world'\n",
      " 'Taxes on production paid to the rest of the world'\n",
      " 'Gross domestic product' 'Gross national income' 'Net public wealth'\n",
      " 'Net personal wealth' 'Net domestic product' 'Net foreign income'\n",
      " 'National income' 'Market-value national wealth '\n",
      " 'Net foreign capital income'\n",
      " 'Property income paid from the rest of the world'\n",
      " 'Property income received from the rest of the world'\n",
      " 'Foreign income received from tax havens' 'Net portfolio income'\n",
      " 'Net portfolio income, officially recorded'\n",
      " 'Portfolio and other income paid to the rest of the world, officially recorded'\n",
      " 'Portfolio and other income received from the rest of the world, officially recorded'\n",
      " 'Portfolio and other income paid to the rest of the world'\n",
      " 'Net reinvested earnings on foreign portfolio investment'\n",
      " 'Reinvested earnings on foreign portfolio investment, paid to the rest of the world'\n",
      " 'Reinvested earnings on foreign portfolio investment, received from the rest of the world'\n",
      " 'Portfolio and other income received from the rest of the world'\n",
      " 'Taxes on products and production' 'Net private wealth'\n",
      " 'Foreign subsidies less taxes on production and imports'\n",
      " 'Consumption of fixed capital of corporations'\n",
      " 'Consumption of fixed capital of financial coporations'\n",
      " 'Consumption of fixed capital of the general goverment'\n",
      " 'Consumption of fixed capital of households and NPISH'\n",
      " 'Consumption of fixed capital of households'\n",
      " 'Consumption of fixed capital of non-financial coporations'\n",
      " 'Consumption of fixed capital of NPISH'\n",
      " 'Compensation of employees of households'\n",
      " 'Compensation of employees of NPISH' 'Final consumption expenditures'\n",
      " 'Private expenditures of households and NPISH'\n",
      " 'Private expenditures of households' 'Private expenditures of NPISH'\n",
      " 'Education' 'General public services'\n",
      " 'Gross operating surplus and mixed income' 'Gross operating surplus'\n",
      " 'Gross operating surplus and miscellaneous' 'Health'\n",
      " 'Housing and community amenities'\n",
      " 'Net operating surplus and mixed income of households and NPISH'\n",
      " 'Net operating surplus and mixed income of households'\n",
      " 'Net operating surplus of corporations'\n",
      " 'Net operating surplus of financial corporations'\n",
      " 'Net operating surplus and miscellaneous'\n",
      " 'Net operating surplus of non-financial corporations'\n",
      " 'Net operating surplus of NPISH' 'Other government spending'\n",
      " 'Gross primary income of corporations'\n",
      " 'Gross primary income of financial corporations'\n",
      " 'Gross primary income of the general government'\n",
      " 'Gross primary income of households and NPISH'\n",
      " 'Gross primary income of households'\n",
      " 'Gross primary income of non-financial corporations'\n",
      " 'Gross primary income of NPISH' 'Net primary income of corporations'\n",
      " 'Net primary income of financial corporations'\n",
      " 'Net primary income of the general government'\n",
      " 'Net primary income of households and NPISH'\n",
      " 'Net primary income of households'\n",
      " 'Net primary income of non-financial corporations'\n",
      " 'Net primary income of NPISH' 'Net property income of corporations'\n",
      " 'Net property income of financial corporations'\n",
      " 'Net property income of the government'\n",
      " 'Net property income of households and NPISH'\n",
      " 'Net property income of households'\n",
      " 'Net property income of non-financial corporations'\n",
      " 'Net property income of NPISH' 'Recreation, culture and religion'\n",
      " 'Gross savings of the general government'\n",
      " 'Gross savings of households and NPISH' 'Gross savings of households'\n",
      " 'Gross savings of NPISH' 'Net savings of the general government'\n",
      " 'Net savings of households and NPISH' 'Net savings of households'\n",
      " 'Gross national savings' 'Net national savings' 'Net savings of NPISH'\n",
      " 'Net secondary income/Net saving of corporations'\n",
      " 'Net secondary income/Net saving of financial corporations'\n",
      " 'Net secondary income of the general government'\n",
      " 'Net secondary income of households and NPISH'\n",
      " 'Net secondary income of households'\n",
      " 'Net secondary income/Net saving of non-financial corporations'\n",
      " 'Net secondary income of NPISH'\n",
      " 'Gross secondary income/Gross saving of corporations'\n",
      " 'Gross secondary income/Gross saving of financial corporations'\n",
      " 'Gross secondary income of the general government'\n",
      " 'Gross secondary income of households and NPISH'\n",
      " 'Gross secondary income of households'\n",
      " 'Gross secondary income/Gross saving of non-financial corporations'\n",
      " 'Gross secondary income of NPISH' 'Subsidies on production and imports'\n",
      " 'Social benefits from private employer social insurance'\n",
      " 'Social benefits other than social transfers in kind'\n",
      " 'Social contributions to private employer social insurance'\n",
      " 'Social contributions' 'Corporate tax' 'Direct taxes'\n",
      " 'Direct taxes on income and wealth' 'Personal taxes on income and wealth'\n",
      " 'Taxes on production and imports' 'Defense' 'Economic affairs'\n",
      " 'Social protection'\n",
      " 'Consumption of fixed capital attributable to mixed income'\n",
      " 'Consumption of fixed capital attributable to operating surplus'\n",
      " 'Pure capital income' 'Gross mixed income'\n",
      " 'Gross operating surplus of households'\n",
      " 'Net mixed income of households and NPISH'\n",
      " 'Net mixed income of households'\n",
      " 'Net operating surplus of households and NPISH'\n",
      " 'Other subsidies on production' 'Other taxes on production'\n",
      " 'Subsidies on products' 'Taxes on products'\n",
      " 'Collective consumption expenditure' 'Environment protection'\n",
      " 'Individual consumption expenditures' 'Public order and safety'\n",
      " 'Fiscal income ' 'Gross foreign assets' 'Gross foreign liabilities'\n",
      " 'Net foreign assets' 'Private business assets'\n",
      " 'Private currency & deposits' 'Private debt' 'Private dwellings'\n",
      " 'Private equities' 'Private equity, fund shares & offshore wealth'\n",
      " 'Private financial assets' 'Private currency, deposits, bonds & loans'\n",
      " 'Private housing assets' 'Private land underlying dwellings'\n",
      " 'Private non-financial assets' 'Other domestic private capital'\n",
      " 'Private offshore wealth' 'Private pension funds & life insurance'\n",
      " 'Pre-tax national income ']\n"
     ]
    }
   ],
   "source": [
    "print(df2['shortname'].unique())"
   ]
  },
  {
   "cell_type": "code",
   "execution_count": 36,
   "id": "7fe1f748",
   "metadata": {},
   "outputs": [],
   "source": [
    "#filter to just GDP data\n",
    "\n",
    "GDP = df2[df2['shortname'] =='Gross domestic product'].groupby(['countryname','year','longtype','longpop'])['value'].mean().reset_index().sort_values(by = 'value', ascending = False)\n",
    "#print(GDP.head(40))"
   ]
  },
  {
   "cell_type": "code",
   "execution_count": 37,
   "id": "d90593ca",
   "metadata": {},
   "outputs": [
    {
     "data": {
      "image/png": "[encoded data removed]",
      "text/plain": [
       "<Figure size 1000x600 with 1 Axes>"
      ]
     },
     "metadata": {},
     "output_type": "display_data"
    }
   ],
   "source": [
    "import matplotlib.pyplot as plt\n",
    "max_GDP_year = GDP.loc[GDP.groupby('countryname')['value'].idxmax()]\n",
    "\n",
    "\n",
    "country_counts = max_GDP_year['year'].value_counts().sort_index()\n",
    "\n",
    "# Create a bar chart\n",
    "plt.figure(figsize=(10, 6))\n",
    "country_counts.plot(kind='bar', color='skyblue')\n",
    "plt.title('Number of Countries with Highest GDP in Each Year')\n",
    "plt.xlabel('Year')\n",
    "plt.ylabel('Number of Countries')\n",
    "plt.show()\n",
    "\n",
    "#The majority of countries had their highest GDP in 2021"
   ]
  },
  {
   "cell_type": "code",
   "execution_count": 38,
   "id": "92416996",
   "metadata": {},
   "outputs": [
    {
     "data": {
      "image/png": "[encoded data removed]",
      "text/plain": [
       "<Figure size 640x480 with 1 Axes>"
      ]
     },
     "metadata": {},
     "output_type": "display_data"
    }
   ],
   "source": [
    "\n",
    "personal_wealth = df2[df2['shortname']=='Fiscal income '].groupby(['region2','year'])['value'].mean()\n",
    "country_gdp = df2[df2['shortname']=='Gross domestic product'].groupby(['region2','year'])['value'].mean().reset_index()\n",
    "\n",
    "df_sorted = country_gdp.sort_values(by=['year', 'region2'])\n",
    "\n",
    "# Create a line plot for each country\n",
    "for country, group in df_sorted.groupby('region2'):\n",
    "    plt.plot(group['year'], group['value'], label=country, marker='o')\n",
    "\n",
    "# Set labels and legend\n",
    "plt.xlabel('Year')\n",
    "plt.ylabel('GDP')\n",
    "plt.yscale(\"log\")\n",
    "plt.title('Average GDP from 2020 -2022 for Each Region')\n",
    "plt.legend(title='Region', bbox_to_anchor=(1.05, 1), loc='upper left')\n",
    "years = df_sorted['year'].unique()\n",
    "plt.xticks(years, rotation=45)\n",
    "\n",
    "\n",
    "# Show the plot\n",
    "plt.show()\n"
   ]
  },
  {
   "cell_type": "code",
   "execution_count": 39,
   "id": "303fa326",
   "metadata": {},
   "outputs": [
    {
     "name": "stdout",
     "output_type": "stream",
     "text": [
      "             countryname        region2         value\n",
      "0                Liberia    West Africa  9.161424e+06\n",
      "1  Sao Tome and Principe  Middle Africa  3.686051e+07\n",
      "2                Eritrea    East Africa  7.054937e+07\n",
      "3             Seychelles    East Africa  7.831441e+07\n",
      "4                Lesotho   South Africa  7.946226e+07\n",
      "5              Swaziland   South Africa  1.305553e+08\n",
      "6                 Gambia    West Africa  2.408375e+08\n",
      "7                Tunisia   North Africa  2.544447e+08\n",
      "8             Cabo Verde    West Africa  3.637401e+08\n",
      "9               Botswana   South Africa  3.851142e+08\n",
      "     countryname        region2         value\n",
      "54       Nigeria    West Africa  7.912944e+11\n",
      "53       Somalia    East Africa  6.917044e+11\n",
      "52      Tanzania    East Africa  5.132079e+11\n",
      "51        Uganda    East Africa  4.669095e+11\n",
      "50        Guinea    West Africa  4.398997e+11\n",
      "49  the DR Congo  Middle Africa  2.061362e+11\n",
      "48  Sierra Leone    West Africa  1.973456e+11\n",
      "47    Madagascar    East Africa  1.802847e+11\n",
      "46      Zanzibar    East Africa  1.466627e+11\n",
      "45        Angola  Middle Africa  8.828846e+10\n"
     ]
    }
   ],
   "source": [
    "# Calculate average GDP for each country\n",
    "average_country_gdp = df2.groupby(['countryname','region2'])['value'].mean()\n",
    "\n",
    "# Sort countries based on average GDP\n",
    "sorted_countries = average_country_gdp.sort_values().reset_index()\n",
    "\n",
    "# Select the 5 smallest average GDPs\n",
    "smallest_10_countries = sorted_countries.head(10)\n",
    "\n",
    "# Print or use the result as needed\n",
    "print(smallest_10_countries)\n",
    "\n",
    "sorted_countries_desc = sorted_countries.sort_values(by = 'value',ascending = False)\n",
    "\n",
    "largest_10_countries = sorted_countries_desc.head(10)\n",
    "print(largest_10_countries)"
   ]
  },
  {
   "cell_type": "code",
   "execution_count": 40,
   "id": "853ed95e",
   "metadata": {},
   "outputs": [
    {
     "data": {
      "image/png": "[encoded data removed]",
      "text/plain": [
       "<Figure size 1000x600 with 1 Axes>"
      ]
     },
     "metadata": {},
     "output_type": "display_data"
    },
    {
     "data": {
      "image/png": "[encoded data removed]",
      "text/plain": [
       "<Figure size 1000x600 with 1 Axes>"
      ]
     },
     "metadata": {},
     "output_type": "display_data"
    }
   ],
   "source": [
    "\n",
    "count_smallest = smallest_10_countries.groupby('region2')['countryname'].count().reset_index()\n",
    "count_largest = largest_10_countries.groupby('region2')['countryname'].count().reset_index()\n",
    "\n",
    "plt.figure(figsize=(10, 6))\n",
    "\n",
    "colors = {'North Africa': 'blue', 'South Africa': 'green', 'West Africa': 'red', 'East Africa': 'purple', 'Middle Africa': 'orange'}\n",
    "\n",
    "# Create a bar plot using Matplotlib\n",
    "plt.bar(count_smallest['region2'], count_smallest['countryname'], color=[colors.get(region, 'gray') for region in count_smallest['region2']])\n",
    "\n",
    "\n",
    "# Set labels and title\n",
    "plt.xlabel('Region')\n",
    "plt.ylabel('Number of Countries')\n",
    "plt.title('Number of Countries in Each Region (Smallest 10)')\n",
    "\n",
    "# Show the plot\n",
    "plt.show()\n",
    "\n",
    "fig, ax = plt.subplots(figsize=(10, 6))\n",
    "\n",
    "colors = {'North Africa': 'blue', 'South Africa': 'green', 'West Africa': 'red', 'East Africa': 'purple', 'Middle Africa': 'orange'}\n",
    "\n",
    "# Create a bar plot using Matplotlib\n",
    "plt.bar(count_largest['region2'], count_largest['countryname'], color=[colors.get(region, 'gray') for region in count_smallest['region2']])\n",
    "\n",
    "\n",
    "# Set labels and title\n",
    "ax.set_xlabel('Region')\n",
    "ax.set_ylabel('Number of Countries')\n",
    "ax.set_title('Number of Countries in Each Region (Smaller Countries)')\n",
    "\n",
    "# Show the plot\n",
    "plt.tight_layout()\n",
    "plt.show()\n"
   ]
  },
  {
   "cell_type": "code",
   "execution_count": 41,
   "id": "7ec0ba84",
   "metadata": {},
   "outputs": [],
   "source": [
    "south_africa = df2[(df2['region2']=='South Africa') & (df2['shortname']=='Gross domestic product')].groupby(['countryname'])['value'].mean().reset_index().sort_values(by = 'value')\n",
    "\n",
    "\n",
    "east_africa = df2[(df2['region2']=='East Africa') & (df2['shortname']=='Gross domestic product')].groupby(['countryname'])['value'].mean().reset_index().sort_values(by = 'value')\n",
    "\n",
    "\n",
    "north_africa= df2[(df2['region2']=='North Africa') & (df2['shortname']=='Gross domestic product')].groupby(['countryname'])['value'].mean().reset_index().sort_values(by = 'value')\n",
    "\n",
    "\n",
    "west_africa= df2[(df2['region2']=='West Africa') & (df2['shortname']=='Gross domestic product')].groupby(['countryname'])['value'].mean().reset_index().sort_values(by = 'value')\n",
    "\n",
    "\n",
    "middle_africa= df2[(df2['region2']=='Middle Africa') & (df2['shortname']=='Gross domestic product')].groupby(['countryname'])['value'].mean().reset_index().sort_values(by = 'value')\n",
    "\n"
   ]
  },
  {
   "cell_type": "code",
   "execution_count": 42,
   "id": "26239543",
   "metadata": {},
   "outputs": [
    {
     "data": {
      "image/png": "[encoded data removed]",
      "text/plain": [
       "<Figure size 1500x1000 with 5 Axes>"
      ]
     },
     "metadata": {},
     "output_type": "display_data"
    }
   ],
   "source": [
    "fig, axs = plt.subplots(2, 3, figsize=(15, 10))\n",
    "\n",
    "# Flatten the axs array to make indexing easier\n",
    "axs = axs.flatten()\n",
    "\n",
    "# List of DataFrames for each region\n",
    "africa_dfs = [north_africa, south_africa, east_africa, west_africa, middle_africa]\n",
    "\n",
    "# List of titles for each subplot\n",
    "titles = ['North Africa', 'South Africa', 'East Africa', 'West Africa', 'Middle Africa']\n",
    "\n",
    "# Iterate over DataFrames and titles\n",
    "for i, (df, title) in enumerate(zip(africa_dfs, titles)):\n",
    "    # Plot the bar chart for the current region\n",
    "    df.plot(kind='bar', x='countryname', y='value', ax=axs[i], legend=False)\n",
    "    axs[i].set_title(f'Country-wise GDP in {title}')\n",
    "    axs[i].set_xlabel('Country')\n",
    "    axs[i].set_ylabel('GDP')\n",
    "\n",
    "if len(africa_dfs) < len(axs):\n",
    "    for i in range(len(africa_dfs), len(axs)):\n",
    "        fig.delaxes(axs[i])\n",
    "\n",
    "# Adjust layout\n",
    "plt.tight_layout()\n",
    "\n",
    "# Show the plots\n",
    "plt.show()"
   ]
  },
  {
   "cell_type": "code",
   "execution_count": 43,
   "id": "654d9da6",
   "metadata": {},
   "outputs": [
    {
     "data": {
      "image/png": "[encoded data removed]",
      "text/plain": [
       "<Figure size 640x480 with 1 Axes>"
      ]
     },
     "metadata": {},
     "output_type": "display_data"
    }
   ],
   "source": [
    "import matplotlib.pyplot as plt\n",
    "\n",
    "total_income = df2[df2['shortname']=='Net portfolio income'].groupby('region2')['value'].sum()\n",
    "average_income = df2[df2['shortname']=='Net portfolio income'].groupby('region2')['value'].mean()\n",
    "\n",
    "total_income.plot(label=\"Total Income\")\n",
    "average_income.plot(label=\"Average Income\")\n",
    "\n",
    "plt.xlabel(\"Region Name\")\n",
    "plt.ylabel(\"log$_{10}$(Value)\")\n",
    "#plt.yscale(\"log\")\n",
    "plt.legend()\n",
    "plt.tight_layout()\n"
   ]
  },
  {
   "cell_type": "code",
   "execution_count": 44,
   "id": "8b90a7b5",
   "metadata": {},
   "outputs": [
    {
     "data": {
      "image/png": "[encoded data removed]",
      "text/plain": [
       "<Figure size 640x480 with 1 Axes>"
      ]
     },
     "metadata": {},
     "output_type": "display_data"
    }
   ],
   "source": [
    "total_income = df2[df2['shortname']=='Net portfolio income'].groupby('region2')['value'].sum()\n",
    "average_income = df2[df2['shortname']=='Net portfolio income'].groupby('region2')['value'].mean()\n",
    "\n",
    "total_income.plot(label=\"Total Income\")\n",
    "average_income.plot(label=\"Average Income\")\n",
    "\n",
    "plt.xlabel(\"Region Name\")\n",
    "plt.ylabel(\"log$_{10}$(Value)\")\n",
    "plt.yscale(\"log\")\n",
    "plt.legend()\n",
    "plt.tight_layout()"
   ]
  },
  {
   "cell_type": "code",
   "execution_count": 45,
   "id": "d4c8fdeb",
   "metadata": {},
   "outputs": [
    {
     "name": "stdout",
     "output_type": "stream",
     "text": [
      "         region2         value\n",
      "0    East Africa  1.167177e+11\n",
      "1  Middle Africa  4.920263e+10\n",
      "2   North Africa  1.934667e+10\n",
      "3   South Africa  5.565079e+09\n",
      "4    West Africa  1.033078e+11\n",
      "         region2         value\n",
      "0    East Africa  8.602800e+10\n",
      "1  Middle Africa  4.920263e+10\n",
      "2   North Africa  1.934667e+10\n",
      "3   South Africa  5.565079e+09\n",
      "4    West Africa  1.033078e+11\n"
     ]
    }
   ],
   "source": [
    "average_region_gdp = df2[df2['shortname']=='Gross domestic product'].groupby('region2')['value'].mean().reset_index()\n",
    "print(average_region_gdp)\n",
    "\n",
    "average_region_income = df2[df2['shortname']=='Net portfolio income'].groupby('region2')['value'].mean().reset_index()\n",
    "print(average_region_income)"
   ]
  },
  {
   "cell_type": "code",
   "execution_count": 46,
   "id": "6961ca59",
   "metadata": {},
   "outputs": [
    {
     "name": "stdout",
     "output_type": "stream",
     "text": [
      "Requirement already satisfied: plotly in /Users/macyscheideman/anaconda3/lib/python3.10/site-packages (5.18.0)\n",
      "Requirement already satisfied: packaging in /Users/macyscheideman/anaconda3/lib/python3.10/site-packages (from plotly) (23.0)\n",
      "Requirement already satisfied: tenacity>=6.2.0 in /Users/macyscheideman/anaconda3/lib/python3.10/site-packages (from plotly) (8.2.2)\n",
      "Note: you may need to restart the kernel to use updated packages.\n"
     ]
    },
    {
     "data": {
      "application/vnd.plotly.v1+json": {
       "config": {
        "plotlyServerURL": "https://plot.ly"
       },
       "data": [
        {
         "domain": {
          "x": [
           0,
           1
          ],
          "y": [
           0,
           1
          ]
         },
         "hovertemplate": "region2=%{label}<br>value=%{value}<extra></extra>",
         "labels": [
          "East Africa",
          "Middle Africa",
          "North Africa",
          "South Africa",
          "West Africa"
         ],
         "legendgroup": "",
         "name": "",
         "showlegend": true,
         "type": "pie",
         "values": [
          116717711883.17015,
          49202634709.52749,
          19346672190.40142,
          5565079066.747231,
          103307810703.57281
         ]
        }
       ],
       "layout": {
        "legend": {
         "tracegroupgap": 0
        },
        "template": {
         "data": {
          "bar": [
           {
            "error_x": {
             "color": "#2a3f5f"
            },
            "error_y": {
             "color": "#2a3f5f"
            },
            "marker": {
             "line": {
              "color": "#E5ECF6",
              "width": 0.5
             },
             "pattern": {
              "fillmode": "overlay",
              "size": 10,
              "solidity": 0.2
             }
            },
            "type": "bar"
           }
          ],
          "barpolar": [
           {
            "marker": {
             "line": {
              "color": "#E5ECF6",
              "width": 0.5
             },
             "pattern": {
              "fillmode": "overlay",
              "size": 10,
              "solidity": 0.2
             }
            },
            "type": "barpolar"
           }
          ],
          "carpet": [
           {
            "aaxis": {
             "endlinecolor": "#2a3f5f",
             "gridcolor": "white",
             "linecolor": "white",
             "minorgridcolor": "white",
             "startlinecolor": "#2a3f5f"
            },
            "baxis": {
             "endlinecolor": "#2a3f5f",
             "gridcolor": "white",
             "linecolor": "white",
             "minorgridcolor": "white",
             "startlinecolor": "#2a3f5f"
            },
            "type": "carpet"
           }
          ],
          "choropleth": [
           {
            "colorbar": {
             "outlinewidth": 0,
             "ticks": ""
            },
            "type": "choropleth"
           }
          ],
          "contour": [
           {
            "colorbar": {
             "outlinewidth": 0,
             "ticks": ""
            },
            "colorscale": [
             [
              0,
              "#0d0887"
             ],
             [
              0.1111111111111111,
              "#46039f"
             ],
             [
              0.2222222222222222,
              "#7201a8"
             ],
             [
              0.3333333333333333,
              "#9c179e"
             ],
             [
              0.4444444444444444,
              "#bd3786"
             ],
             [
              0.5555555555555556,
              "#d8576b"
             ],
             [
              0.6666666666666666,
              "#ed7953"
             ],
             [
              0.7777777777777778,
              "#fb9f3a"
             ],
             [
              0.8888888888888888,
              "#fdca26"
             ],
             [
              1,
              "#f0f921"
             ]
            ],
            "type": "contour"
           }
          ],
          "contourcarpet": [
           {
            "colorbar": {
             "outlinewidth": 0,
             "ticks": ""
            },
            "type": "contourcarpet"
           }
          ],
          "heatmap": [
           {
            "colorbar": {
             "outlinewidth": 0,
             "ticks": ""
            },
            "colorscale": [
             [
              0,
              "#0d0887"
             ],
             [
              0.1111111111111111,
              "#46039f"
             ],
             [
              0.2222222222222222,
              "#7201a8"
             ],
             [
              0.3333333333333333,
              "#9c179e"
             ],
             [
              0.4444444444444444,
              "#bd3786"
             ],
             [
              0.5555555555555556,
              "#d8576b"
             ],
             [
              0.6666666666666666,
              "#ed7953"
             ],
             [
              0.7777777777777778,
              "#fb9f3a"
             ],
             [
              0.8888888888888888,
              "#fdca26"
             ],
             [
              1,
              "#f0f921"
             ]
            ],
            "type": "heatmap"
           }
          ],
          "heatmapgl": [
           {
            "colorbar": {
             "outlinewidth": 0,
             "ticks": ""
            },
            "colorscale": [
             [
              0,
              "#0d0887"
             ],
             [
              0.1111111111111111,
              "#46039f"
             ],
             [
              0.2222222222222222,
              "#7201a8"
             ],
             [
              0.3333333333333333,
              "#9c179e"
             ],
             [
              0.4444444444444444,
              "#bd3786"
             ],
             [
              0.5555555555555556,
              "#d8576b"
             ],
             [
              0.6666666666666666,
              "#ed7953"
             ],
             [
              0.7777777777777778,
              "#fb9f3a"
             ],
             [
              0.8888888888888888,
              "#fdca26"
             ],
             [
              1,
              "#f0f921"
             ]
            ],
            "type": "heatmapgl"
           }
          ],
          "histogram": [
           {
            "marker": {
             "pattern": {
              "fillmode": "overlay",
              "size": 10,
              "solidity": 0.2
             }
            },
            "type": "histogram"
           }
          ],
          "histogram2d": [
           {
            "colorbar": {
             "outlinewidth": 0,
             "ticks": ""
            },
            "colorscale": [
             [
              0,
              "#0d0887"
             ],
             [
              0.1111111111111111,
              "#46039f"
             ],
             [
              0.2222222222222222,
              "#7201a8"
             ],
             [
              0.3333333333333333,
              "#9c179e"
             ],
             [
              0.4444444444444444,
              "#bd3786"
             ],
             [
              0.5555555555555556,
              "#d8576b"
             ],
             [
              0.6666666666666666,
              "#ed7953"
             ],
             [
              0.7777777777777778,
              "#fb9f3a"
             ],
             [
              0.8888888888888888,
              "#fdca26"
             ],
             [
              1,
              "#f0f921"
             ]
            ],
            "type": "histogram2d"
           }
          ],
          "histogram2dcontour": [
           {
            "colorbar": {
             "outlinewidth": 0,
             "ticks": ""
            },
            "colorscale": [
             [
              0,
              "#0d0887"
             ],
             [
              0.1111111111111111,
              "#46039f"
             ],
             [
              0.2222222222222222,
              "#7201a8"
             ],
             [
              0.3333333333333333,
              "#9c179e"
             ],
             [
              0.4444444444444444,
              "#bd3786"
             ],
             [
              0.5555555555555556,
              "#d8576b"
             ],
             [
              0.6666666666666666,
              "#ed7953"
             ],
             [
              0.7777777777777778,
              "#fb9f3a"
             ],
             [
              0.8888888888888888,
              "#fdca26"
             ],
             [
              1,
              "#f0f921"
             ]
            ],
            "type": "histogram2dcontour"
           }
          ],
          "mesh3d": [
           {
            "colorbar": {
             "outlinewidth": 0,
             "ticks": ""
            },
            "type": "mesh3d"
           }
          ],
          "parcoords": [
           {
            "line": {
             "colorbar": {
              "outlinewidth": 0,
              "ticks": ""
             }
            },
            "type": "parcoords"
           }
          ],
          "pie": [
           {
            "automargin": true,
            "type": "pie"
           }
          ],
          "scatter": [
           {
            "fillpattern": {
             "fillmode": "overlay",
             "size": 10,
             "solidity": 0.2
            },
            "type": "scatter"
           }
          ],
          "scatter3d": [
           {
            "line": {
             "colorbar": {
              "outlinewidth": 0,
              "ticks": ""
             }
            },
            "marker": {
             "colorbar": {
              "outlinewidth": 0,
              "ticks": ""
             }
            },
            "type": "scatter3d"
           }
          ],
          "scattercarpet": [
           {
            "marker": {
             "colorbar": {
              "outlinewidth": 0,
              "ticks": ""
             }
            },
            "type": "scattercarpet"
           }
          ],
          "scattergeo": [
           {
            "marker": {
             "colorbar": {
              "outlinewidth": 0,
              "ticks": ""
             }
            },
            "type": "scattergeo"
           }
          ],
          "scattergl": [
           {
            "marker": {
             "colorbar": {
              "outlinewidth": 0,
              "ticks": ""
             }
            },
            "type": "scattergl"
           }
          ],
          "scattermapbox": [
           {
            "marker": {
             "colorbar": {
              "outlinewidth": 0,
              "ticks": ""
             }
            },
            "type": "scattermapbox"
           }
          ],
          "scatterpolar": [
           {
            "marker": {
             "colorbar": {
              "outlinewidth": 0,
              "ticks": ""
             }
            },
            "type": "scatterpolar"
           }
          ],
          "scatterpolargl": [
           {
            "marker": {
             "colorbar": {
              "outlinewidth": 0,
              "ticks": ""
             }
            },
            "type": "scatterpolargl"
           }
          ],
          "scatterternary": [
           {
            "marker": {
             "colorbar": {
              "outlinewidth": 0,
              "ticks": ""
             }
            },
            "type": "scatterternary"
           }
          ],
          "surface": [
           {
            "colorbar": {
             "outlinewidth": 0,
             "ticks": ""
            },
            "colorscale": [
             [
              0,
              "#0d0887"
             ],
             [
              0.1111111111111111,
              "#46039f"
             ],
             [
              0.2222222222222222,
              "#7201a8"
             ],
             [
              0.3333333333333333,
              "#9c179e"
             ],
             [
              0.4444444444444444,
              "#bd3786"
             ],
             [
              0.5555555555555556,
              "#d8576b"
             ],
             [
              0.6666666666666666,
              "#ed7953"
             ],
             [
              0.7777777777777778,
              "#fb9f3a"
             ],
             [
              0.8888888888888888,
              "#fdca26"
             ],
             [
              1,
              "#f0f921"
             ]
            ],
            "type": "surface"
           }
          ],
          "table": [
           {
            "cells": {
             "fill": {
              "color": "#EBF0F8"
             },
             "line": {
              "color": "white"
             }
            },
            "header": {
             "fill": {
              "color": "#C8D4E3"
             },
             "line": {
              "color": "white"
             }
            },
            "type": "table"
           }
          ]
         },
         "layout": {
          "annotationdefaults": {
           "arrowcolor": "#2a3f5f",
           "arrowhead": 0,
           "arrowwidth": 1
          },
          "autotypenumbers": "strict",
          "coloraxis": {
           "colorbar": {
            "outlinewidth": 0,
            "ticks": ""
           }
          },
          "colorscale": {
           "diverging": [
            [
             0,
             "#8e0152"
            ],
            [
             0.1,
             "#c51b7d"
            ],
            [
             0.2,
             "#de77ae"
            ],
            [
             0.3,
             "#f1b6da"
            ],
            [
             0.4,
             "#fde0ef"
            ],
            [
             0.5,
             "#f7f7f7"
            ],
            [
             0.6,
             "#e6f5d0"
            ],
            [
             0.7,
             "#b8e186"
            ],
            [
             0.8,
             "#7fbc41"
            ],
            [
             0.9,
             "#4d9221"
            ],
            [
             1,
             "#276419"
            ]
           ],
           "sequential": [
            [
             0,
             "#0d0887"
            ],
            [
             0.1111111111111111,
             "#46039f"
            ],
            [
             0.2222222222222222,
             "#7201a8"
            ],
            [
             0.3333333333333333,
             "#9c179e"
            ],
            [
             0.4444444444444444,
             "#bd3786"
            ],
            [
             0.5555555555555556,
             "#d8576b"
            ],
            [
             0.6666666666666666,
             "#ed7953"
            ],
            [
             0.7777777777777778,
             "#fb9f3a"
            ],
            [
             0.8888888888888888,
             "#fdca26"
            ],
            [
             1,
             "#f0f921"
            ]
           ],
           "sequentialminus": [
            [
             0,
             "#0d0887"
            ],
            [
             0.1111111111111111,
             "#46039f"
            ],
            [
             0.2222222222222222,
             "#7201a8"
            ],
            [
             0.3333333333333333,
             "#9c179e"
            ],
            [
             0.4444444444444444,
             "#bd3786"
            ],
            [
             0.5555555555555556,
             "#d8576b"
            ],
            [
             0.6666666666666666,
             "#ed7953"
            ],
            [
             0.7777777777777778,
             "#fb9f3a"
            ],
            [
             0.8888888888888888,
             "#fdca26"
            ],
            [
             1,
             "#f0f921"
            ]
           ]
          },
          "colorway": [
           "#636efa",
           "#EF553B",
           "#00cc96",
           "#ab63fa",
           "#FFA15A",
           "#19d3f3",
           "#FF6692",
           "#B6E880",
           "#FF97FF",
           "#FECB52"
          ],
          "font": {
           "color": "#2a3f5f"
          },
          "geo": {
           "bgcolor": "white",
           "lakecolor": "white",
           "landcolor": "#E5ECF6",
           "showlakes": true,
           "showland": true,
           "subunitcolor": "white"
          },
          "hoverlabel": {
           "align": "left"
          },
          "hovermode": "closest",
          "mapbox": {
           "style": "light"
          },
          "paper_bgcolor": "white",
          "plot_bgcolor": "#E5ECF6",
          "polar": {
           "angularaxis": {
            "gridcolor": "white",
            "linecolor": "white",
            "ticks": ""
           },
           "bgcolor": "#E5ECF6",
           "radialaxis": {
            "gridcolor": "white",
            "linecolor": "white",
            "ticks": ""
           }
          },
          "scene": {
           "xaxis": {
            "backgroundcolor": "#E5ECF6",
            "gridcolor": "white",
            "gridwidth": 2,
            "linecolor": "white",
            "showbackground": true,
            "ticks": "",
            "zerolinecolor": "white"
           },
           "yaxis": {
            "backgroundcolor": "#E5ECF6",
            "gridcolor": "white",
            "gridwidth": 2,
            "linecolor": "white",
            "showbackground": true,
            "ticks": "",
            "zerolinecolor": "white"
           },
           "zaxis": {
            "backgroundcolor": "#E5ECF6",
            "gridcolor": "white",
            "gridwidth": 2,
            "linecolor": "white",
            "showbackground": true,
            "ticks": "",
            "zerolinecolor": "white"
           }
          },
          "shapedefaults": {
           "line": {
            "color": "#2a3f5f"
           }
          },
          "ternary": {
           "aaxis": {
            "gridcolor": "white",
            "linecolor": "white",
            "ticks": ""
           },
           "baxis": {
            "gridcolor": "white",
            "linecolor": "white",
            "ticks": ""
           },
           "bgcolor": "#E5ECF6",
           "caxis": {
            "gridcolor": "white",
            "linecolor": "white",
            "ticks": ""
           }
          },
          "title": {
           "x": 0.05
          },
          "xaxis": {
           "automargin": true,
           "gridcolor": "white",
           "linecolor": "white",
           "ticks": "",
           "title": {
            "standoff": 15
           },
           "zerolinecolor": "white",
           "zerolinewidth": 2
          },
          "yaxis": {
           "automargin": true,
           "gridcolor": "white",
           "linecolor": "white",
           "ticks": "",
           "title": {
            "standoff": 15
           },
           "zerolinecolor": "white",
           "zerolinewidth": 2
          }
         }
        },
        "title": {
         "text": "Average Region GDP as Share of Continent GDP"
        }
       }
      }
     },
     "metadata": {},
     "output_type": "display_data"
    },
    {
     "data": {
      "application/vnd.plotly.v1+json": {
       "config": {
        "plotlyServerURL": "https://plot.ly"
       },
       "data": [
        {
         "domain": {
          "x": [
           0,
           1
          ],
          "y": [
           0,
           1
          ]
         },
         "hovertemplate": "region2=%{label}<br>value=%{value}<extra></extra>",
         "labels": [
          "East Africa",
          "Middle Africa",
          "North Africa",
          "South Africa",
          "West Africa"
         ],
         "legendgroup": "",
         "name": "",
         "showlegend": true,
         "type": "pie",
         "values": [
          86027999732.9175,
          49202634709.52749,
          19346672190.40142,
          5565079066.747231,
          103307810703.57281
         ]
        }
       ],
       "layout": {
        "legend": {
         "tracegroupgap": 0
        },
        "template": {
         "data": {
          "bar": [
           {
            "error_x": {
             "color": "#2a3f5f"
            },
            "error_y": {
             "color": "#2a3f5f"
            },
            "marker": {
             "line": {
              "color": "#E5ECF6",
              "width": 0.5
             },
             "pattern": {
              "fillmode": "overlay",
              "size": 10,
              "solidity": 0.2
             }
            },
            "type": "bar"
           }
          ],
          "barpolar": [
           {
            "marker": {
             "line": {
              "color": "#E5ECF6",
              "width": 0.5
             },
             "pattern": {
              "fillmode": "overlay",
              "size": 10,
              "solidity": 0.2
             }
            },
            "type": "barpolar"
           }
          ],
          "carpet": [
           {
            "aaxis": {
             "endlinecolor": "#2a3f5f",
             "gridcolor": "white",
             "linecolor": "white",
             "minorgridcolor": "white",
             "startlinecolor": "#2a3f5f"
            },
            "baxis": {
             "endlinecolor": "#2a3f5f",
             "gridcolor": "white",
             "linecolor": "white",
             "minorgridcolor": "white",
             "startlinecolor": "#2a3f5f"
            },
            "type": "carpet"
           }
          ],
          "choropleth": [
           {
            "colorbar": {
             "outlinewidth": 0,
             "ticks": ""
            },
            "type": "choropleth"
           }
          ],
          "contour": [
           {
            "colorbar": {
             "outlinewidth": 0,
             "ticks": ""
            },
            "colorscale": [
             [
              0,
              "#0d0887"
             ],
             [
              0.1111111111111111,
              "#46039f"
             ],
             [
              0.2222222222222222,
              "#7201a8"
             ],
             [
              0.3333333333333333,
              "#9c179e"
             ],
             [
              0.4444444444444444,
              "#bd3786"
             ],
             [
              0.5555555555555556,
              "#d8576b"
             ],
             [
              0.6666666666666666,
              "#ed7953"
             ],
             [
              0.7777777777777778,
              "#fb9f3a"
             ],
             [
              0.8888888888888888,
              "#fdca26"
             ],
             [
              1,
              "#f0f921"
             ]
            ],
            "type": "contour"
           }
          ],
          "contourcarpet": [
           {
            "colorbar": {
             "outlinewidth": 0,
             "ticks": ""
            },
            "type": "contourcarpet"
           }
          ],
          "heatmap": [
           {
            "colorbar": {
             "outlinewidth": 0,
             "ticks": ""
            },
            "colorscale": [
             [
              0,
              "#0d0887"
             ],
             [
              0.1111111111111111,
              "#46039f"
             ],
             [
              0.2222222222222222,
              "#7201a8"
             ],
             [
              0.3333333333333333,
              "#9c179e"
             ],
             [
              0.4444444444444444,
              "#bd3786"
             ],
             [
              0.5555555555555556,
              "#d8576b"
             ],
             [
              0.6666666666666666,
              "#ed7953"
             ],
             [
              0.7777777777777778,
              "#fb9f3a"
             ],
             [
              0.8888888888888888,
              "#fdca26"
             ],
             [
              1,
              "#f0f921"
             ]
            ],
            "type": "heatmap"
           }
          ],
          "heatmapgl": [
           {
            "colorbar": {
             "outlinewidth": 0,
             "ticks": ""
            },
            "colorscale": [
             [
              0,
              "#0d0887"
             ],
             [
              0.1111111111111111,
              "#46039f"
             ],
             [
              0.2222222222222222,
              "#7201a8"
             ],
             [
              0.3333333333333333,
              "#9c179e"
             ],
             [
              0.4444444444444444,
              "#bd3786"
             ],
             [
              0.5555555555555556,
              "#d8576b"
             ],
             [
              0.6666666666666666,
              "#ed7953"
             ],
             [
              0.7777777777777778,
              "#fb9f3a"
             ],
             [
              0.8888888888888888,
              "#fdca26"
             ],
             [
              1,
              "#f0f921"
             ]
            ],
            "type": "heatmapgl"
           }
          ],
          "histogram": [
           {
            "marker": {
             "pattern": {
              "fillmode": "overlay",
              "size": 10,
              "solidity": 0.2
             }
            },
            "type": "histogram"
           }
          ],
          "histogram2d": [
           {
            "colorbar": {
             "outlinewidth": 0,
             "ticks": ""
            },
            "colorscale": [
             [
              0,
              "#0d0887"
             ],
             [
              0.1111111111111111,
              "#46039f"
             ],
             [
              0.2222222222222222,
              "#7201a8"
             ],
             [
              0.3333333333333333,
              "#9c179e"
             ],
             [
              0.4444444444444444,
              "#bd3786"
             ],
             [
              0.5555555555555556,
              "#d8576b"
             ],
             [
              0.6666666666666666,
              "#ed7953"
             ],
             [
              0.7777777777777778,
              "#fb9f3a"
             ],
             [
              0.8888888888888888,
              "#fdca26"
             ],
             [
              1,
              "#f0f921"
             ]
            ],
            "type": "histogram2d"
           }
          ],
          "histogram2dcontour": [
           {
            "colorbar": {
             "outlinewidth": 0,
             "ticks": ""
            },
            "colorscale": [
             [
              0,
              "#0d0887"
             ],
             [
              0.1111111111111111,
              "#46039f"
             ],
             [
              0.2222222222222222,
              "#7201a8"
             ],
             [
              0.3333333333333333,
              "#9c179e"
             ],
             [
              0.4444444444444444,
              "#bd3786"
             ],
             [
              0.5555555555555556,
              "#d8576b"
             ],
             [
              0.6666666666666666,
              "#ed7953"
             ],
             [
              0.7777777777777778,
              "#fb9f3a"
             ],
             [
              0.8888888888888888,
              "#fdca26"
             ],
             [
              1,
              "#f0f921"
             ]
            ],
            "type": "histogram2dcontour"
           }
          ],
          "mesh3d": [
           {
            "colorbar": {
             "outlinewidth": 0,
             "ticks": ""
            },
            "type": "mesh3d"
           }
          ],
          "parcoords": [
           {
            "line": {
             "colorbar": {
              "outlinewidth": 0,
              "ticks": ""
             }
            },
            "type": "parcoords"
           }
          ],
          "pie": [
           {
            "automargin": true,
            "type": "pie"
           }
          ],
          "scatter": [
           {
            "fillpattern": {
             "fillmode": "overlay",
             "size": 10,
             "solidity": 0.2
            },
            "type": "scatter"
           }
          ],
          "scatter3d": [
           {
            "line": {
             "colorbar": {
              "outlinewidth": 0,
              "ticks": ""
             }
            },
            "marker": {
             "colorbar": {
              "outlinewidth": 0,
              "ticks": ""
             }
            },
            "type": "scatter3d"
           }
          ],
          "scattercarpet": [
           {
            "marker": {
             "colorbar": {
              "outlinewidth": 0,
              "ticks": ""
             }
            },
            "type": "scattercarpet"
           }
          ],
          "scattergeo": [
           {
            "marker": {
             "colorbar": {
              "outlinewidth": 0,
              "ticks": ""
             }
            },
            "type": "scattergeo"
           }
          ],
          "scattergl": [
           {
            "marker": {
             "colorbar": {
              "outlinewidth": 0,
              "ticks": ""
             }
            },
            "type": "scattergl"
           }
          ],
          "scattermapbox": [
           {
            "marker": {
             "colorbar": {
              "outlinewidth": 0,
              "ticks": ""
             }
            },
            "type": "scattermapbox"
           }
          ],
          "scatterpolar": [
           {
            "marker": {
             "colorbar": {
              "outlinewidth": 0,
              "ticks": ""
             }
            },
            "type": "scatterpolar"
           }
          ],
          "scatterpolargl": [
           {
            "marker": {
             "colorbar": {
              "outlinewidth": 0,
              "ticks": ""
             }
            },
            "type": "scatterpolargl"
           }
          ],
          "scatterternary": [
           {
            "marker": {
             "colorbar": {
              "outlinewidth": 0,
              "ticks": ""
             }
            },
            "type": "scatterternary"
           }
          ],
          "surface": [
           {
            "colorbar": {
             "outlinewidth": 0,
             "ticks": ""
            },
            "colorscale": [
             [
              0,
              "#0d0887"
             ],
             [
              0.1111111111111111,
              "#46039f"
             ],
             [
              0.2222222222222222,
              "#7201a8"
             ],
             [
              0.3333333333333333,
              "#9c179e"
             ],
             [
              0.4444444444444444,
              "#bd3786"
             ],
             [
              0.5555555555555556,
              "#d8576b"
             ],
             [
              0.6666666666666666,
              "#ed7953"
             ],
             [
              0.7777777777777778,
              "#fb9f3a"
             ],
             [
              0.8888888888888888,
              "#fdca26"
             ],
             [
              1,
              "#f0f921"
             ]
            ],
            "type": "surface"
           }
          ],
          "table": [
           {
            "cells": {
             "fill": {
              "color": "#EBF0F8"
             },
             "line": {
              "color": "white"
             }
            },
            "header": {
             "fill": {
              "color": "#C8D4E3"
             },
             "line": {
              "color": "white"
             }
            },
            "type": "table"
           }
          ]
         },
         "layout": {
          "annotationdefaults": {
           "arrowcolor": "#2a3f5f",
           "arrowhead": 0,
           "arrowwidth": 1
          },
          "autotypenumbers": "strict",
          "coloraxis": {
           "colorbar": {
            "outlinewidth": 0,
            "ticks": ""
           }
          },
          "colorscale": {
           "diverging": [
            [
             0,
             "#8e0152"
            ],
            [
             0.1,
             "#c51b7d"
            ],
            [
             0.2,
             "#de77ae"
            ],
            [
             0.3,
             "#f1b6da"
            ],
            [
             0.4,
             "#fde0ef"
            ],
            [
             0.5,
             "#f7f7f7"
            ],
            [
             0.6,
             "#e6f5d0"
            ],
            [
             0.7,
             "#b8e186"
            ],
            [
             0.8,
             "#7fbc41"
            ],
            [
             0.9,
             "#4d9221"
            ],
            [
             1,
             "#276419"
            ]
           ],
           "sequential": [
            [
             0,
             "#0d0887"
            ],
            [
             0.1111111111111111,
             "#46039f"
            ],
            [
             0.2222222222222222,
             "#7201a8"
            ],
            [
             0.3333333333333333,
             "#9c179e"
            ],
            [
             0.4444444444444444,
             "#bd3786"
            ],
            [
             0.5555555555555556,
             "#d8576b"
            ],
            [
             0.6666666666666666,
             "#ed7953"
            ],
            [
             0.7777777777777778,
             "#fb9f3a"
            ],
            [
             0.8888888888888888,
             "#fdca26"
            ],
            [
             1,
             "#f0f921"
            ]
           ],
           "sequentialminus": [
            [
             0,
             "#0d0887"
            ],
            [
             0.1111111111111111,
             "#46039f"
            ],
            [
             0.2222222222222222,
             "#7201a8"
            ],
            [
             0.3333333333333333,
             "#9c179e"
            ],
            [
             0.4444444444444444,
             "#bd3786"
            ],
            [
             0.5555555555555556,
             "#d8576b"
            ],
            [
             0.6666666666666666,
             "#ed7953"
            ],
            [
             0.7777777777777778,
             "#fb9f3a"
            ],
            [
             0.8888888888888888,
             "#fdca26"
            ],
            [
             1,
             "#f0f921"
            ]
           ]
          },
          "colorway": [
           "#636efa",
           "#EF553B",
           "#00cc96",
           "#ab63fa",
           "#FFA15A",
           "#19d3f3",
           "#FF6692",
           "#B6E880",
           "#FF97FF",
           "#FECB52"
          ],
          "font": {
           "color": "#2a3f5f"
          },
          "geo": {
           "bgcolor": "white",
           "lakecolor": "white",
           "landcolor": "#E5ECF6",
           "showlakes": true,
           "showland": true,
           "subunitcolor": "white"
          },
          "hoverlabel": {
           "align": "left"
          },
          "hovermode": "closest",
          "mapbox": {
           "style": "light"
          },
          "paper_bgcolor": "white",
          "plot_bgcolor": "#E5ECF6",
          "polar": {
           "angularaxis": {
            "gridcolor": "white",
            "linecolor": "white",
            "ticks": ""
           },
           "bgcolor": "#E5ECF6",
           "radialaxis": {
            "gridcolor": "white",
            "linecolor": "white",
            "ticks": ""
           }
          },
          "scene": {
           "xaxis": {
            "backgroundcolor": "#E5ECF6",
            "gridcolor": "white",
            "gridwidth": 2,
            "linecolor": "white",
            "showbackground": true,
            "ticks": "",
            "zerolinecolor": "white"
           },
           "yaxis": {
            "backgroundcolor": "#E5ECF6",
            "gridcolor": "white",
            "gridwidth": 2,
            "linecolor": "white",
            "showbackground": true,
            "ticks": "",
            "zerolinecolor": "white"
           },
           "zaxis": {
            "backgroundcolor": "#E5ECF6",
            "gridcolor": "white",
            "gridwidth": 2,
            "linecolor": "white",
            "showbackground": true,
            "ticks": "",
            "zerolinecolor": "white"
           }
          },
          "shapedefaults": {
           "line": {
            "color": "#2a3f5f"
           }
          },
          "ternary": {
           "aaxis": {
            "gridcolor": "white",
            "linecolor": "white",
            "ticks": ""
           },
           "baxis": {
            "gridcolor": "white",
            "linecolor": "white",
            "ticks": ""
           },
           "bgcolor": "#E5ECF6",
           "caxis": {
            "gridcolor": "white",
            "linecolor": "white",
            "ticks": ""
           }
          },
          "title": {
           "x": 0.05
          },
          "xaxis": {
           "automargin": true,
           "gridcolor": "white",
           "linecolor": "white",
           "ticks": "",
           "title": {
            "standoff": 15
           },
           "zerolinecolor": "white",
           "zerolinewidth": 2
          },
          "yaxis": {
           "automargin": true,
           "gridcolor": "white",
           "linecolor": "white",
           "ticks": "",
           "title": {
            "standoff": 15
           },
           "zerolinecolor": "white",
           "zerolinewidth": 2
          }
         }
        },
        "title": {
         "text": "Average Region GDP as Share of Continent GDP"
        }
       }
      }
     },
     "metadata": {},
     "output_type": "display_data"
    }
   ],
   "source": [
    "%pip install plotly\n",
    "import plotly.express as px\n",
    "\n",
    "\n",
    "# Create a pie chart\n",
    "fig = px.pie(average_region_gdp, names='region2', values='value', title='Average Region GDP as Share of Continent GDP')\n",
    "\n",
    "# Show the plot\n",
    "fig.show()\n",
    "\n",
    "# Create a pie chart\n",
    "fig = px.pie(average_region_income, names='region2', values='value', title='Average Region GDP as Share of Continent GDP')\n",
    "\n",
    "# Show the plot\n",
    "fig.show()"
   ]
  },
  {
   "cell_type": "code",
   "execution_count": 47,
   "id": "a940cf8b",
   "metadata": {},
   "outputs": [
    {
     "name": "stdout",
     "output_type": "stream",
     "text": [
      "Requirement already satisfied: geopandas in /Users/macyscheideman/anaconda3/lib/python3.10/site-packages (0.14.2)\n",
      "Requirement already satisfied: matplotlib in /Users/macyscheideman/anaconda3/lib/python3.10/site-packages (3.7.1)\n",
      "Requirement already satisfied: packaging in /Users/macyscheideman/anaconda3/lib/python3.10/site-packages (from geopandas) (23.0)\n",
      "Requirement already satisfied: pyproj>=3.3.0 in /Users/macyscheideman/anaconda3/lib/python3.10/site-packages (from geopandas) (3.6.1)\n",
      "Requirement already satisfied: pandas>=1.4.0 in /Users/macyscheideman/anaconda3/lib/python3.10/site-packages (from geopandas) (2.0.1)\n",
      "Requirement already satisfied: shapely>=1.8.0 in /Users/macyscheideman/anaconda3/lib/python3.10/site-packages (from geopandas) (2.0.2)\n",
      "Requirement already satisfied: fiona>=1.8.21 in /Users/macyscheideman/anaconda3/lib/python3.10/site-packages (from geopandas) (1.9.5)\n",
      "Requirement already satisfied: contourpy>=1.0.1 in /Users/macyscheideman/anaconda3/lib/python3.10/site-packages (from matplotlib) (1.0.7)\n",
      "Requirement already satisfied: pillow>=6.2.0 in /Users/macyscheideman/anaconda3/lib/python3.10/site-packages (from matplotlib) (9.4.0)\n",
      "Requirement already satisfied: numpy>=1.20 in /Users/macyscheideman/anaconda3/lib/python3.10/site-packages (from matplotlib) (1.24.2)\n",
      "Requirement already satisfied: fonttools>=4.22.0 in /Users/macyscheideman/anaconda3/lib/python3.10/site-packages (from matplotlib) (4.39.3)\n",
      "Requirement already satisfied: cycler>=0.10 in /Users/macyscheideman/anaconda3/lib/python3.10/site-packages (from matplotlib) (0.11.0)\n",
      "Requirement already satisfied: pyparsing>=2.3.1 in /Users/macyscheideman/anaconda3/lib/python3.10/site-packages (from matplotlib) (3.0.9)\n",
      "Requirement already satisfied: kiwisolver>=1.0.1 in /Users/macyscheideman/anaconda3/lib/python3.10/site-packages (from matplotlib) (1.4.4)\n",
      "Requirement already satisfied: python-dateutil>=2.7 in /Users/macyscheideman/anaconda3/lib/python3.10/site-packages (from matplotlib) (2.8.2)\n",
      "Requirement already satisfied: certifi in /Users/macyscheideman/anaconda3/lib/python3.10/site-packages (from fiona>=1.8.21->geopandas) (2022.12.7)\n",
      "Requirement already satisfied: setuptools in /Users/macyscheideman/anaconda3/lib/python3.10/site-packages (from fiona>=1.8.21->geopandas) (66.0.0)\n",
      "Requirement already satisfied: six in /Users/macyscheideman/anaconda3/lib/python3.10/site-packages (from fiona>=1.8.21->geopandas) (1.16.0)\n",
      "Requirement already satisfied: click~=8.0 in /Users/macyscheideman/anaconda3/lib/python3.10/site-packages (from fiona>=1.8.21->geopandas) (8.1.3)\n",
      "Requirement already satisfied: cligj>=0.5 in /Users/macyscheideman/anaconda3/lib/python3.10/site-packages (from fiona>=1.8.21->geopandas) (0.7.2)\n",
      "Requirement already satisfied: attrs>=19.2.0 in /Users/macyscheideman/anaconda3/lib/python3.10/site-packages (from fiona>=1.8.21->geopandas) (22.1.0)\n",
      "Requirement already satisfied: click-plugins>=1.0 in /Users/macyscheideman/anaconda3/lib/python3.10/site-packages (from fiona>=1.8.21->geopandas) (1.1.1)\n",
      "Requirement already satisfied: tzdata>=2022.1 in /Users/macyscheideman/anaconda3/lib/python3.10/site-packages (from pandas>=1.4.0->geopandas) (2023.3)\n",
      "Requirement already satisfied: pytz>=2020.1 in /Users/macyscheideman/anaconda3/lib/python3.10/site-packages (from pandas>=1.4.0->geopandas) (2022.7)\n",
      "Note: you may need to restart the kernel to use updated packages.\n"
     ]
    }
   ],
   "source": [
    "%pip install geopandas matplotlib"
   ]
  },
  {
   "cell_type": "code",
   "execution_count": 48,
   "id": "88f74447",
   "metadata": {},
   "outputs": [],
   "source": [
    "#Changing the names of countries in our dataframe to match the world admin boundaries country names\n",
    "\n",
    "country_name_mapping = {\n",
    "    'the DR Congo': 'Democratic Republic of the Congo',\n",
    "    'the Congo': 'Congo',\n",
    "    'the Central African Republic': 'Central African Republic',\n",
    "    'the Congo': 'Congo',\n",
    "    'Libya': 'Libyan Arab Jamahiriya',\n",
    "    'Tanzania': 'United Republic of Tanzania',\n",
    "    \"Cote d'Ivoire\": \"Côte d'Ivoire\"\n",
    "    \n",
    "}\n",
    "\n",
    "df2['countryname'] = df2['countryname'].replace(country_name_mapping)\n"
   ]
  },
  {
   "cell_type": "code",
   "execution_count": 49,
   "id": "ca430f38",
   "metadata": {},
   "outputs": [
    {
     "data": {
      "image/png": "[encoded data removed]",
      "text/plain": [
       "<Figure size 1500x1000 with 2 Axes>"
      ]
     },
     "metadata": {},
     "output_type": "display_data"
    }
   ],
   "source": [
    "import geopandas as gpd\n",
    "import matplotlib.pyplot as plt\n",
    "from mpl_toolkits.axes_grid1 import make_axes_locatable\n",
    "\n",
    "# Load world shapefile\n",
    "world = gpd.read_file('/Users/macyscheideman/Desktop/world-administrative-boundaries')\n",
    "\n",
    "average_country_gdp = df2[df2['shortname']=='Gross domestic product'].groupby('countryname')['value'].mean().reset_index()\n",
    "# Merge income data with shapefile\n",
    "merged_data = world.merge(average_country_gdp, how='left', left_on='name', right_on='countryname')\n",
    "\n",
    "# Plot the heat map\n",
    "fig, ax = plt.subplots(1, 1, figsize=(15, 10))\n",
    "divider = make_axes_locatable(ax)\n",
    "cax = divider.append_axes(\"right\", size=\"5%\", pad=0.1)\n",
    "\n",
    "# Plot the choropleth map\n",
    "merged_data.plot(column='value', cmap='YlGnBu', linewidth=0.8, ax=ax, edgecolor='0.8', legend=True, cax=cax)\n",
    "\n",
    "# Set axis labels and title\n",
    "ax.set_title('Africa Gross Domestic Product Heat Map')\n",
    "ax.set_axis_off()\n",
    "\n",
    "plt.show()"
   ]
  }
 ],
 "metadata": {
  "kernelspec": {
   "display_name": "Python 3 (ipykernel)",
   "language": "python",
   "name": "python3"
  },
  "language_info": {
   "codemirror_mode": {
    "name": "ipython",
    "version": 3
   },
   "file_extension": ".py",
   "mimetype": "text/x-python",
   "name": "python",
   "nbconvert_exporter": "python",
   "pygments_lexer": "ipython3",
   "version": "3.10.8"
  }
 },
 "nbformat": 4,
 "nbformat_minor": 5
}
